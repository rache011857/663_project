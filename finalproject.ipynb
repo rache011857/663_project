{
 "cells": [
  {
   "cell_type": "markdown",
   "metadata": {
    "collapsed": true
   },
   "source": [
    "# Multiple-try Metropolis"
   ]
  },
  {
   "cell_type": "markdown",
   "metadata": {},
   "source": [
    "### Toy example"
   ]
  },
  {
   "cell_type": "code",
   "execution_count": 99,
   "metadata": {
    "collapsed": true
   },
   "outputs": [],
   "source": [
    "import numpy as np\n",
    "import scipy.stats as stats\n",
    "import seaborn as sns\n",
    "import matplotlib.pyplot as plt\n",
    "% matplotlib inline"
   ]
  },
  {
   "cell_type": "markdown",
   "metadata": {},
   "source": [
    "#### Sampling from a two-dimensional mixture Gaussian Distribution $\\pi(x)$\n",
    "$$\n",
    "\\pi(x)=\\frac{1}{3}\\mathbf{N}_2(\\mathbf{0},\\mathbf{I}_2)+\\frac{1}{3}\\mathbf{N}_2\\biggl\\{\\left(\\begin{array}{c}\n",
    "-6 \\\\\n",
    "-6\n",
    "\\end{array}\n",
    "\\right),\\left(\\begin{array}{cc}\n",
    "1 & 0.9 \\\\\n",
    "0.9 & 1\n",
    "\\end{array}\n",
    "\\right)\n",
    "\\biggr\\}+\\frac{1}{3}\\mathbf{N}_2\\biggl\\{\\left(\\begin{array}{c}\n",
    "4 \\\\\n",
    "4\n",
    "\\end{array}\n",
    "\\right),\\left(\\begin{array}{cc}\n",
    "1 & -0.9 \\\\\n",
    "-0.9 & 1\n",
    "\\end{array}\n",
    "\\right)\n",
    "\\biggr\\}$$"
   ]
  },
  {
   "cell_type": "code",
   "execution_count": 73,
   "metadata": {
    "collapsed": true
   },
   "outputs": [],
   "source": [
    "def norm_mix(x):\n",
    "    target = stats.multivariate_normal.pdf(x,[0,0],[[1,0],[0,1]])+stats.multivariate_normal.pdf(x,[-6,-6],[[1,0.9],[0.9,1]])+stats.multivariate_normal.pdf(x,[4,4],[[1,-0.9],[-0.9,1]])\n",
    "    return target"
   ]
  },
  {
   "cell_type": "markdown",
   "metadata": {},
   "source": [
    "#### Method 1: Traditional Metropolis-Hastings sampler"
   ]
  },
  {
   "cell_type": "code",
   "execution_count": 98,
   "metadata": {
    "collapsed": true
   },
   "outputs": [],
   "source": [
    "n_iter = 10000\n",
    "M = 10\n",
    "sigma = 2\n",
    "\n",
    "# initial state\n",
    "X = stats.uniform.rvs(loc=-5, scale=10, size=2, random_state=None)\n",
    "\n",
    "# record the number of acceptances\n",
    "accept = 0\n",
    "\n",
    "# store the samples\n",
    "MHsamples = np.zeros((n_iter,2))\n",
    "\n",
    "# tuning parameter:\n",
    "# sigma: variance of proposal\n",
    "\n",
    "# MH sampler\n",
    "for t in range(n_iter):\n",
    "    # proposal: independent N(0,sigma)\n",
    "    Y = X+stats.norm.rvs(0,sigma,1)\n",
    "       \n",
    "    # accept or reject\n",
    "    u = stats.uniform.rvs(loc=0, scale=1, size=1)\n",
    "    if u < norm_mix(Y)/norm_mix(X):\n",
    "        X = Y\n",
    "        accept += 1\n",
    "    MHsamples[t] = X"
   ]
  },
  {
   "cell_type": "code",
   "execution_count": 100,
   "metadata": {
    "collapsed": false
   },
   "outputs": [
    {
     "data": {
      "text/plain": [
       "<matplotlib.axes._subplots.AxesSubplot at 0x7f9d70061668>"
      ]
     },
     "execution_count": 100,
     "metadata": {},
     "output_type": "execute_result"
    },
    {
     "name": "stderr",
     "output_type": "stream",
     "text": [
      "/opt/conda/lib/python3.4/site-packages/matplotlib/collections.py:590: FutureWarning: elementwise comparison failed; returning scalar instead, but in the future will perform elementwise comparison\n",
      "  if self._edgecolors == str('face'):\n"
     ]
    },
    {
     "data": {
      "image/png": "[encoded data removed]",
      "text/plain": [
       "<matplotlib.figure.Figure at 0x7f9d70061c18>"
      ]
     },
     "metadata": {},
     "output_type": "display_data"
    }
   ],
   "source": [
    "sns.kdeplot(MHsamples[:,0], MHsamples[:,1], camps='Reds', kind=\"kde\",shade=True,shade_lowest=False)"
   ]
  },
  {
   "cell_type": "markdown",
   "metadata": {},
   "source": [
    "#### Method 2: MTM sampler"
   ]
  },
  {
   "cell_type": "code",
   "execution_count": 81,
   "metadata": {
    "collapsed": false
   },
   "outputs": [],
   "source": [
    "n_iter = 10000\n",
    "M = 10\n",
    "sigma = 2"
   ]
  },
  {
   "cell_type": "code",
   "execution_count": 82,
   "metadata": {
    "collapsed": false,
    "scrolled": true
   },
   "outputs": [],
   "source": [
    "# initial state\n",
    "X = stats.uniform.rvs(loc=-5, scale=10, size=2, random_state=None)\n",
    "\n",
    "# record the number of acceptances\n",
    "accept = 0\n",
    "\n",
    "# store the samples\n",
    "MTMsamples = np.zeros((n_iter,2))\n",
    "\n",
    "# tuning parameter:\n",
    "# sigma: variance of proposal\n",
    "\n",
    "# MTM sampler\n",
    "for t in range(n_iter):\n",
    "    # proposal: independent N(0,sigma)\n",
    "    Y = np.tile(X,(M,1))+stats.norm.rvs(0,sigma,(M,2))\n",
    "    \n",
    "    # proposal importance probabilities\n",
    "    w_prop = norm_mix(Y)\n",
    "    \n",
    "    # index of the chosen trial point\n",
    "    ix = np.random.choice(M, 1, p=w_prop/sum(w_prop))\n",
    "    \n",
    "    # draw M-1 samples \n",
    "    X_star = np.tile(Y[ix],(M-1,1))+stats.norm.rvs(0,sigma,(M-1,2))\n",
    "    # add X as M th sample\n",
    "    X_star = np.vstack((X_star,X))\n",
    "    \n",
    "    # back importance probabilities\n",
    "    w_back = norm_mix(X_star)\n",
    "    \n",
    "    # accept or reject\n",
    "    u = stats.uniform.rvs(loc=0, scale=1, size=1)\n",
    "    if u < sum(w_prop)/sum(w_back):\n",
    "        X = Y[ix]\n",
    "        accept += 1\n",
    "    MTMsamples[t] = X"
   ]
  },
  {
   "cell_type": "code",
   "execution_count": 86,
   "metadata": {
    "collapsed": false
   },
   "outputs": [
    {
     "data": {
      "text/plain": [
       "<matplotlib.axes._subplots.AxesSubplot at 0x7f9d73d69518>"
      ]
     },
     "execution_count": 86,
     "metadata": {},
     "output_type": "execute_result"
    },
    {
     "name": "stderr",
     "output_type": "stream",
     "text": [
      "/opt/conda/lib/python3.4/site-packages/matplotlib/collections.py:590: FutureWarning: elementwise comparison failed; returning scalar instead, but in the future will perform elementwise comparison\n",
      "  if self._edgecolors == str('face'):\n"
     ]
    },
    {
     "data": {
      "image/png": "[encoded data removed]",
      "text/plain": [
       "<matplotlib.figure.Figure at 0x7f9d7bc6f668>"
      ]
     },
     "metadata": {},
     "output_type": "display_data"
    }
   ],
   "source": [
    "sns.kdeplot(MTMsamples[:,0], MTMsamples[:,1], camps='Reds', kind=\"kde\",shade=True,shade_lowest=False)"
   ]
  }
 ],
 "metadata": {
  "kernelspec": {
   "display_name": "Python 3",
   "language": "python",
   "name": "python3"
  },
  "language_info": {
   "codemirror_mode": {
    "name": "ipython",
    "version": 3
   },
   "file_extension": ".py",
   "mimetype": "text/x-python",
   "name": "python",
   "nbconvert_exporter": "python",
   "pygments_lexer": "ipython3",
   "version": "3.4.4"
  }
 },
 "nbformat": 4,
 "nbformat_minor": 0
}
