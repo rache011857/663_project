{
 "cells": [
  {
   "cell_type": "markdown",
   "metadata": {
    "collapsed": true
   },
   "source": [
    "# The Multiple-Try Metropolis and its Variations"
   ]
  },
  {
   "cell_type": "markdown",
   "metadata": {},
   "source": [
    "## Background"
   ]
  },
  {
   "cell_type": "markdown",
   "metadata": {},
   "source": [
    "\n",
    "Markov Chain Monte Carlo (MCMC) has been extensively applied in many complicated computational problems in the bayesain paradigm. The conceptual understanding about this algorithm is to sample randomly from a defined distribution and to obtain an invariant distribution which is also the target distribution. \n",
    "\n",
    "The traditional Metropolis-Hastings algorithm (MH) is one of the representatices of MCMC. The algorithm is defined as follows,\n",
    "\n",
    "r = \\text{min} \\left\\{ 1, \\frac{\\pi(x_{t+1})T(x_{t+1},x_t)}{\\pi(x_{t})T(x_{t},x_{t+1})}  \\right\\}\n",
    "\\end{equation*}\n",
    "where $\\pi(x_i)$ is the probability distribution of $x_i$; $T(.)$ is a markov transition function to generate a proposal $x_{t+1}$ given the current status of $x_t$; r is the probability of accepting $x_{t+1}$, also known as MH ratio.\n",
    "\n",
    "Although compared to other bayesian methods, the standard MH has already been more computational approachable, it is still of \n",
    "probablistic. Its random proposed local move may arouse low convergence concern. In addition, trapping in local mode is also a major imperfection of this algorithm. A possible solution to enlarge the area for the proposal while it often comes along a small MH ratio. Hence, it is an ineffiecient algorithm. Liu, Liang and Wong (2000) proposed a series of variations of the standard MH algorithm and proved their effectiveness. \n",
    "\n",
    "The improved algorithm based on the traditional MH is called Multiple-try-Metropolis (MTM).  This method differs from the classical MH by proposing a mutiple candidate points rather than a simple point for each iteration. The sampling procedure will carry on based on each point's importance. As a result, the algorithm is more robust for effectively searching the optima.\n",
    "\n",
    "This paper intends to research the MTM class to a further extent. The MTM and a variation combined with gibbs sampler will be tested first. These two algorithms are theretically discussed in previous literature. We will testify these two methods based on both artificial data or real dataset. An original variation which incorporates hamiltonian dynamics is proposed in the end. We hope that by doing empirical study on the algorithms proposed, the superiority of the MTM algorithm class over traditional MH algorithms can be proved. \n",
    "\n",
    "Hence, the major goal of the whole project is to explore the superiority of the MTM algorithm class. Since there is limited coding on these methods, we will concentrate on developing coding on these new algorithms rather optimizing a commonly coded algorithm. "
   ]
  },
  {
   "cell_type": "markdown",
   "metadata": {},
   "source": [
    "## The algorithm and its variations"
   ]
  },
  {
   "cell_type": "markdown",
   "metadata": {},
   "source": [
    "In this section, we will introduce the multiple-try metropolis as well as its variations. In the traditional MH algorithm, we have the following settings. Firstly, a proposal function $T(x_i,x_{i+1})$ is defined, which clarifies the relationship between the $t$th trial and the $(t+1)$th candidate parameters. Next, a function used for evaluating the likelihood of a trial is defined as follows,\n",
    "\\begin{equation*}\n",
    "w(x_i,x_{i+1}) = \\pi(x_i) T(x_i,x_{i+1}) \\lambda (x_i,x_{i+1})\n",
    "\\end{equation*}\n",
    "where $\\lambda (x_i,x_{i+1})$ is an adjustment function to enhance the power of the algorithm, which is nonnegative and symmetric.\n",
    "\n",
    "Two basic requirements should be satisfied.\n",
    "1. $T(x_i,x_{i+1})  > 0$ if and only if $T(x_{i+1},x_i)  > 0$\n",
    "2. If $T(x_i,x_{i+1})  > 0$, then $\\lambda (x_i,x_{i+1}) >0$.\n",
    "The choices of $\\lambda (x_i,x_{i+1})$ vary in different situations. \n",
    "\n",
    "\n",
    "#### Multiple-try Metropolis\n",
    "\n",
    "**Algorithm**\n",
    "\n",
    "The MTM algorithm can be achieved through 4 steps. The symbols are in line with the standard MH algorithm.  \n",
    "1. Sample $k$ iid trials $x_{t+1}^{1},..., x_{t+1}^{k}$ from $T(x_i, .)$. Compute $w(x_{t+1}^{j},x_{t})$ for $j=1,...,k$.\n",
    "2. Select $\\mathbf{X} = x_{t+1}$ among the proposal set $\\{x_{t+1}^{1},..., x_{t+1}^{k}\\}$ with probability propotional to $\\{w(x_{t+1}^{1},x_i),...,w(x_{t+1}^{k},x_i)\\}$.\n",
    "3. Sample $x_{\\star}^{1},...,x_{\\star}^{k-1}$ from the distribution $T(x_{t+1},.)$, and let $x_{\\star}^{k}=x_{t}$.\n",
    "4. Accept $x_{t+1}$ with probability \n",
    "\\begin{equation*}\n",
    "r = \\text{min}\\left\\{ 1, \\frac{w(x_{t+1}^{1},x_{t})+\\cdot \\cdot \\cdot+w(x_{t+1}^{k},x_{t})} {w(x_{\\star}^{1},x_{t+1})+\\cdot \\cdot \\cdot+w(x_{\\star}^{k},x_{t+1})} \\right\\}\n",
    "\\end{equation*}\n",
    "and reject it with probability $1-r$. The quantity $r$ is called generlaized MH ratio. \n",
    "\n",
    "**Model Specification: Mixture Gaussian distribution**\n",
    "\n",
    "The follwoing settings are used in our testification of the algorithm.\n",
    "\n",
    "Initial state: \n",
    "$x_0^{i} = \\text{Uni}(-5,5)\\quad i = 1,2$\n",
    "\n",
    "The proposal function $T(.)$:\n",
    "$\n",
    "\\left(\\begin{array}{c}\n",
    "x_{t+1}^{1}  \\\\\n",
    "x_{t+1}^{2} \n",
    "\\end{array}\n",
    "\\right) = \\left(\\begin{array}{c}\n",
    "x_{t}^{1}  \\\\\n",
    "x_{t}^{2} \n",
    "\\end{array}\n",
    "\\right)+\\mathbf{N}_2(\\mathbf{0},\\sigma^2 \\mathbf{I}_2)\n",
    "$\n",
    "\n",
    "The probability density function:\n",
    "$$\n",
    "\\pi(x)=\\frac{1}{3}\\mathbf{N}_2(\\mathbf{0},\\mathbf{I}_2)+\\frac{1}{3}\\mathbf{N}_2\\biggl\\{\\left(\\begin{array}{c}\n",
    "-6 \\\\\n",
    "-6\n",
    "\\end{array}\n",
    "\\right),\\left(\\begin{array}{cc}\n",
    "1 & 0.9 \\\\\n",
    "0.9 & 1\n",
    "\\end{array}\n",
    "\\right)\n",
    "\\biggr\\}+\\frac{1}{3}\\mathbf{N}_2\\biggl\\{\\left(\\begin{array}{c}\n",
    "4 \\\\\n",
    "4\n",
    "\\end{array}\n",
    "\\right),\\left(\\begin{array}{cc}\n",
    "1 & -0.9 \\\\\n",
    "-0.9 & 1\n",
    "\\end{array}\n",
    "\\right)\n",
    "\\biggr\\}$$\n",
    "\n",
    "The adjustment function $\\lambda (x_i,x_{i+1}) = 1$\n",
    "\n",
    "\n",
    "\n",
    "\n",
    "#### Griddy Gibbs Multiple-Try Metropolis\n",
    "**Algorithm**\n",
    "\n",
    "One of the major characteristic of the Gibbs sampler is that it is constructed based on the conditional distribution. However, in many cases, it is intracable to derive the conditional distribution for sampling. The griddy Gibbs sampler (Ritter and tanner (1992)) solves the computational challenge. Combined with MTM method, the MTM-Gibbs algorithm is designed to enhance the performance of the MTM.\n",
    "\n",
    "Assume $\\mathbf{X} = \\mathbf{x}$ where $\\mathbf{x}=(x(1),...,x(d))$, the algorithm of MTM-Gibbs is illustrated as follows,\n",
    "\n",
    "1. Select any element of $\\mathbf{x}$, say $x{i}$. Sample $y_1,..., y_k$ iid from a transition function $T(x(i),.)$ in line with the direction of $x(i)$, and calculate \n",
    "\\begin{equation*}\n",
    "w(y_j,x(i)) = \\pi(x(1),...,x(i-1),y_j,x(i+1),...,x(d)) T(y_j,x(i)) \\lambda(y_j,x(i)),\n",
    "\\end{equation*}\n",
    "for j = 1,2,...,k.\n",
    "\n",
    "2. Select $y=y_j$ with probability proportional to $w(y_j,x(i))$. Draw $k-1$ iid samples from T(y,.), denote by $s_1,...,s_{k-1}$. Make $s_k=x(i)$.\n",
    "\n",
    "3. Compute the generalized Metropolis ratio r defined above, accept $y$ with probability $r$ and reject with $1-r$.\n",
    "\n",
    "**Model Specification: Non-linear model**\n",
    "\n",
    "The model used in testing the MTM-Gibbs is defined as follows,\n",
    "$$y_i=\\theta_1(1-\\exp(-\\theta_2x_i))+\\varepsilon_i$$\n",
    "where $y$ is the BOD at time $x$ with independent normal errors with constant variance $\\sigma^2$.\n",
    "\n",
    "The following settings are used in our testification of the algorithm.\n",
    "\n",
    "Initial state: $\\theta_i = \\text{Uni}(-1,1) \\quad i = 1,2$\n",
    "\n",
    "The proposal function $T(.)$:\n",
    "$\\theta_{t+1}^{i} = \\theta_{t+1}^{i} + \\mathbf{N}(0,\\sigma^2)\\quad i = 1,2$\n",
    "\n",
    "The adjustment function $\\lambda (x_i,x_{i+1}) = 1$\n",
    "\n",
    "\n",
    "#### Langevin-within-MTM\n",
    "**Algorithm**\n",
    "\n",
    "In this method, we combined the hamiltonian dynamics with MTM, in which langevin is one of the representatives of halmiltonian dynamics.    \n",
    "\n",
    "\n",
    "**Model Specification: **\n"
   ]
  },
  {
   "cell_type": "markdown",
   "metadata": {},
   "source": []
  },
  {
   "cell_type": "markdown",
   "metadata": {},
   "source": [
    "## Multiple-try Metropolis"
   ]
  },
  {
   "cell_type": "markdown",
   "metadata": {},
   "source": [
    "### Toy example"
   ]
  },
  {
   "cell_type": "code",
   "execution_count": 4,
   "metadata": {
    "collapsed": false
   },
   "outputs": [],
   "source": [
    "# import numba\n",
    "from numba import jit\n",
    "import numpy as np\n",
    "import scipy.stats as stats\n",
    "import seaborn as sns\n",
    "import pandas as pd\n",
    "import matplotlib.pyplot as plt\n",
    "% matplotlib inline"
   ]
  },
  {
   "cell_type": "markdown",
   "metadata": {},
   "source": [
    "#### Sampling from a two-dimensional mixture Gaussian Distribution $\\pi(x)$\n",
    "$$\n",
    "\\pi(x)=\\frac{1}{3}\\mathbf{N}_2(\\mathbf{0},\\mathbf{I}_2)+\\frac{1}{3}\\mathbf{N}_2\\biggl\\{\\left(\\begin{array}{c}\n",
    "-6 \\\\\n",
    "-6\n",
    "\\end{array}\n",
    "\\right),\\left(\\begin{array}{cc}\n",
    "1 & 0.9 \\\\\n",
    "0.9 & 1\n",
    "\\end{array}\n",
    "\\right)\n",
    "\\biggr\\}+\\frac{1}{3}\\mathbf{N}_2\\biggl\\{\\left(\\begin{array}{c}\n",
    "4 \\\\\n",
    "4\n",
    "\\end{array}\n",
    "\\right),\\left(\\begin{array}{cc}\n",
    "1 & -0.9 \\\\\n",
    "-0.9 & 1\n",
    "\\end{array}\n",
    "\\right)\n",
    "\\biggr\\}$$"
   ]
  },
  {
   "cell_type": "code",
   "execution_count": 5,
   "metadata": {
    "collapsed": true
   },
   "outputs": [],
   "source": [
    "def norm_mix(x):\n",
    "    target = stats.multivariate_normal.pdf(x,[0,0],[[1,0],[0,1]])+stats.multivariate_normal.pdf(x,[-6,-6],[[1,0.9],[0.9,1]])+stats.multivariate_normal.pdf(x,[4,4],[[1,-0.9],[-0.9,1]])\n",
    "    return target"
   ]
  },
  {
   "cell_type": "markdown",
   "metadata": {},
   "source": [
    "# Need a contour plot for mixture Gaussian here"
   ]
  },
  {
   "cell_type": "markdown",
   "metadata": {},
   "source": [
    "#### Method 1: Traditional Metropolis-Hastings sampler"
   ]
  },
  {
   "cell_type": "code",
   "execution_count": 6,
   "metadata": {
    "collapsed": false
   },
   "outputs": [],
   "source": [
    "n_iter = 50000\n",
    "sigma = 1.5\n",
    "\n",
    "# initial state\n",
    "X = stats.uniform.rvs(loc=-5, scale=10, size=2, random_state=None)\n",
    "\n",
    "# record the number of acceptances\n",
    "accept = 0\n",
    "\n",
    "# store the samples\n",
    "MHsamples = np.zeros((n_iter,2))\n",
    "\n",
    "# tuning parameter:\n",
    "# sigma: variance of proposal\n",
    "\n",
    "# MH sampler\n",
    "for t in range(n_iter):\n",
    "    # proposal: independent N(0,sigma)\n",
    "    Y = X+stats.norm.rvs(0,sigma,2)\n",
    "       \n",
    "    # accept or reject\n",
    "    u = stats.uniform.rvs(loc=0, scale=1, size=1)\n",
    "    if u < norm_mix(Y)/norm_mix(X):\n",
    "        X = Y\n",
    "        accept += 1\n",
    "    MHsamples[t] = X"
   ]
  },
  {
   "cell_type": "code",
   "execution_count": 7,
   "metadata": {
    "collapsed": false
   },
   "outputs": [
    {
     "data": {
      "text/plain": [
       "<matplotlib.axes._subplots.AxesSubplot at 0x11426e4a8>"
      ]
     },
     "execution_count": 7,
     "metadata": {},
     "output_type": "execute_result"
    },
    {
     "data": {
      "image/png": "[encoded data removed]",
      "text/plain": [
       "<matplotlib.figure.Figure at 0x11426f4a8>"
      ]
     },
     "metadata": {},
     "output_type": "display_data"
    }
   ],
   "source": [
    "sns.kdeplot(MHsamples[:,0], MHsamples[:,1], camps='Reds', kind=\"kde\",shade=True,shade_lowest=False)"
   ]
  },
  {
   "cell_type": "markdown",
   "metadata": {},
   "source": [
    "#### Method 2: MTM sampler"
   ]
  },
  {
   "cell_type": "code",
   "execution_count": 132,
   "metadata": {
    "collapsed": false
   },
   "outputs": [],
   "source": [
    "n_iter = 10000\n",
    "M = 10\n",
    "sigma = 1.5"
   ]
  },
  {
   "cell_type": "code",
   "execution_count": 133,
   "metadata": {
    "collapsed": false,
    "scrolled": true
   },
   "outputs": [],
   "source": [
    "# initial state\n",
    "X = stats.uniform.rvs(loc=-5, scale=10, size=2, random_state=None)\n",
    "\n",
    "# record the number of acceptances\n",
    "accept = 0\n",
    "\n",
    "# store the samples\n",
    "MTMsamples = np.zeros((n_iter,2))\n",
    "\n",
    "# tuning parameter:\n",
    "# sigma: variance of the proposal\n",
    "\n",
    "# MTM sampler\n",
    "for t in range(n_iter):\n",
    "    # proposal: independent N(0,sigma)\n",
    "    Y = np.tile(X,(M,1))+stats.norm.rvs(0,sigma,(M,2))\n",
    "    \n",
    "    # proposal importance probabilities\n",
    "    w_prop = norm_mix(Y)\n",
    "    \n",
    "    # index of the chosen trial point\n",
    "    ix = np.random.choice(M, 1, p=w_prop/sum(w_prop))\n",
    "    \n",
    "    # draw M-1 samples \n",
    "    X_star = np.tile(Y[ix],(M-1,1))+stats.norm.rvs(0,sigma,(M-1,2))\n",
    "    # add X as M th sample\n",
    "    X_star = np.vstack((X_star,X))\n",
    "    \n",
    "    # back importance probabilities\n",
    "    w_back = norm_mix(X_star)\n",
    "    \n",
    "    # accept or reject\n",
    "    u = stats.uniform.rvs(loc=0, scale=1, size=1)\n",
    "    if u < sum(w_prop)/sum(w_back):\n",
    "        X = Y[ix]\n",
    "        accept += 1\n",
    "    MTMsamples[t] = X"
   ]
  },
  {
   "cell_type": "code",
   "execution_count": 134,
   "metadata": {
    "collapsed": false,
    "scrolled": true
   },
   "outputs": [
    {
     "data": {
      "text/plain": [
       "<matplotlib.axes._subplots.AxesSubplot at 0x7f9d6f924ac8>"
      ]
     },
     "execution_count": 134,
     "metadata": {},
     "output_type": "execute_result"
    },
    {
     "name": "stderr",
     "output_type": "stream",
     "text": [
      "/opt/conda/lib/python3.4/site-packages/matplotlib/collections.py:590: FutureWarning: elementwise comparison failed; returning scalar instead, but in the future will perform elementwise comparison\n",
      "  if self._edgecolors == str('face'):\n"
     ]
    },
    {
     "data": {
      "image/png": "[encoded data removed]",
      "text/plain": [
       "<matplotlib.figure.Figure at 0x7f9d6faa62b0>"
      ]
     },
     "metadata": {},
     "output_type": "display_data"
    }
   ],
   "source": [
    "sns.kdeplot(MTMsamples[:,0], MTMsamples[:,1], camps='Reds', kind=\"kde\",shade=True,shade_lowest=False)"
   ]
  },
  {
   "cell_type": "markdown",
   "metadata": {},
   "source": [
    "# Also need to compare autocorrelation, acceptance here"
   ]
  },
  {
   "cell_type": "markdown",
   "metadata": {},
   "source": [
    "## Variation 1: Griddy Gibbs Multiple-Try Metropolis"
   ]
  },
  {
   "cell_type": "markdown",
   "metadata": {
    "collapsed": true
   },
   "source": [
    "### Real dataset: Biochemical Oxygen Demand (BOD) originally from Marske (1967)"
   ]
  },
  {
   "cell_type": "code",
   "execution_count": 18,
   "metadata": {
    "collapsed": false
   },
   "outputs": [
    {
     "data": {
      "text/html": [
       "<div>\n",
       "<table border=\"1\" class=\"dataframe\">\n",
       "  <thead>\n",
       "    <tr style=\"text-align: right;\">\n",
       "      <th></th>\n",
       "      <th>time</th>\n",
       "      <th>demand</th>\n",
       "    </tr>\n",
       "  </thead>\n",
       "  <tbody>\n",
       "    <tr>\n",
       "      <th>0</th>\n",
       "      <td>1</td>\n",
       "      <td>8.3</td>\n",
       "    </tr>\n",
       "    <tr>\n",
       "      <th>1</th>\n",
       "      <td>2</td>\n",
       "      <td>10.3</td>\n",
       "    </tr>\n",
       "    <tr>\n",
       "      <th>2</th>\n",
       "      <td>3</td>\n",
       "      <td>19.0</td>\n",
       "    </tr>\n",
       "    <tr>\n",
       "      <th>3</th>\n",
       "      <td>4</td>\n",
       "      <td>16.0</td>\n",
       "    </tr>\n",
       "    <tr>\n",
       "      <th>4</th>\n",
       "      <td>5</td>\n",
       "      <td>15.6</td>\n",
       "    </tr>\n",
       "  </tbody>\n",
       "</table>\n",
       "</div>"
      ],
      "text/plain": [
       "     time   demand\n",
       "0        1     8.3\n",
       "1        2    10.3\n",
       "2        3    19.0\n",
       "3        4    16.0\n",
       "4        5    15.6"
      ]
     },
     "execution_count": 18,
     "metadata": {},
     "output_type": "execute_result"
    }
   ],
   "source": [
    "data = pd.read_table('BOD.txt',sep='|')\n",
    "data.head()"
   ]
  },
  {
   "cell_type": "markdown",
   "metadata": {},
   "source": [
    "### Non-linear model was fitted based on the analysis from Bates, D.M. and Watts, D.G. (1988)"
   ]
  },
  {
   "cell_type": "markdown",
   "metadata": {},
   "source": [
    "The non-linear model is given by\n",
    "$$y_i=\\theta_1(1-\\exp(-\\theta_2x_i))+\\varepsilon_i$$\n",
    "where $y$ is the BOD at time $x$ with independent normal errors with constant variance $\\sigma^2$."
   ]
  },
  {
   "cell_type": "code",
   "execution_count": 27,
   "metadata": {
    "collapsed": false
   },
   "outputs": [],
   "source": [
    "x = data.ix[:,0]\n",
    "y = data.ix[:,1]\n"
   ]
  },
  {
   "cell_type": "code",
   "execution_count": 31,
   "metadata": {
    "collapsed": false
   },
   "outputs": [],
   "source": [
    "@jit\n",
    "def post(theta1, theta2):\n",
    "    n = len(x)\n",
    "    if theta1 > -20 and theta1 < 50 and theta2 > -2 and theta2 < 6:\n",
    "        posterior = sum((y - theta1*(1-np.exp(-theta2*x)))**2)**(-(n/2)+1)\n",
    "    else: posterior = 0\n",
    "    return posterior"
   ]
  },
  {
   "cell_type": "code",
   "execution_count": 32,
   "metadata": {
    "collapsed": false
   },
   "outputs": [],
   "source": [
    "xaxis = np.arange(-20.0, 40.0, 0.5)\n",
    "yaxis = np.arange(-2.0, 4.0, 0.05)\n",
    "Z = np.reshape(np.array([post(a,b) for a in xaxis for b in yaxis]),newshape=[120,120])"
   ]
  },
  {
   "cell_type": "code",
   "execution_count": 33,
   "metadata": {
    "collapsed": false
   },
   "outputs": [
    {
     "data": {
      "text/plain": [
       "<matplotlib.contour.QuadContourSet at 0x1128cb390>"
      ]
     },
     "execution_count": 33,
     "metadata": {},
     "output_type": "execute_result"
    },
    {
     "data": {
      "image/png": "[encoded data removed]",
      "text/plain": [
       "<matplotlib.figure.Figure at 0x1119f0ba8>"
      ]
     },
     "metadata": {},
     "output_type": "display_data"
    }
   ],
   "source": [
    "X, Y = np.meshgrid(xaxis, yaxis)\n",
    "plt.figure()\n",
    "plt.contour(X, Y, Z)"
   ]
  },
  {
   "cell_type": "code",
   "execution_count": 34,
   "metadata": {
    "collapsed": false
   },
   "outputs": [],
   "source": [
    "n_iter = 10000\n",
    "M = 10\n",
    "# tuning parameter:\n",
    "# sigma1, sigma2: variance of the proposal\n",
    "sigma1 = 30\n",
    "sigma2 = 3"
   ]
  },
  {
   "cell_type": "code",
   "execution_count": 11,
   "metadata": {
    "collapsed": false
   },
   "outputs": [],
   "source": [
    "# MTM-Gibbs sampler\n",
    "def MTMG(n_iter, M, sigma1, sigma2, post):\n",
    "    \n",
    "    # initial state\n",
    "    theta1, theta2 = stats.uniform.rvs(loc=-1, scale=2, size=2, random_state=None)\n",
    "\n",
    "    # record the number of updates for each component\n",
    "    count1 = count2 = 0\n",
    "\n",
    "    # record the number of acceptances\n",
    "    accept1 = accept2 = 0\n",
    "    \n",
    "    # store the samples\n",
    "    MTMGsamples = np.zeros((n_iter,2))\n",
    "\n",
    "    for t in range(n_iter):\n",
    "    \n",
    "        # randomly pick the updating component\n",
    "        index = stats.bernoulli.rvs(0.5,1)\n",
    "    \n",
    "        # update theta1\n",
    "        if index == 1:\n",
    "        \n",
    "            # record number of updating\n",
    "            count1 += 1\n",
    "        \n",
    "            # proposal: independent N(0,sigma1^2)\n",
    "            theta1_prop = np.repeat(theta1,M)+stats.norm.rvs(0,sigma1,M)\n",
    "    \n",
    "            # proposal importance probabilities\n",
    "            w_prop = np.array([post(theta1,theta2) for theta1 in theta1_prop])\n",
    "     \n",
    "            # index of the chosen trial point\n",
    "            ix = np.random.choice(M, 1, p=w_prop/sum(w_prop))\n",
    "    \n",
    "            # draw M-1 samples \n",
    "            theta1_star = np.repeat(theta1_prop[ix],M-1)+stats.norm.rvs(0,sigma1,M-1)\n",
    "            # add theta1 as M th sample\n",
    "            theta1_star = np.append(theta1_star,theta1)\n",
    "    \n",
    "            # back importance probabilities\n",
    "            w_back = np.array([post(theta1,theta2) for theta1 in theta1_star])\n",
    "    \n",
    "            # accept or reject\n",
    "            u = stats.uniform.rvs(loc=0, scale=1, size=1)\n",
    "            if u < sum(w_prop)/sum(w_back):\n",
    "                theta1 = theta1_prop[ix]\n",
    "                accept1 += 1\n",
    "            \n",
    "        # update theta2\n",
    "        else: \n",
    "        \n",
    "            # record number of updating\n",
    "            count2 += 1\n",
    "        \n",
    "            # proposal: independent N(0,sigma2^2)\n",
    "            theta2_prop = np.repeat(theta2,M)+stats.norm.rvs(0,sigma2,M)\n",
    "    \n",
    "            # proposal importance probabilities\n",
    "            w_prop = np.array([post(theta1,theta2) for theta2 in theta2_prop])\n",
    "    \n",
    "            # index of the chosen trial point\n",
    "            ix = np.random.choice(M, 1, p=w_prop/sum(w_prop))\n",
    "    \n",
    "            # draw M-1 samples \n",
    "            theta2_star = np.repeat(theta2_prop[ix],M-1)+stats.norm.rvs(0,sigma2,M-1)\n",
    "            # add theta2 as M th sample\n",
    "            theta2_star = np.append(theta2_star,theta2)\n",
    "    \n",
    "            # back importance probabilities\n",
    "            w_back = np.array([post(theta1,theta2) for theta2 in theta2_star])\n",
    "    \n",
    "            # accept or reject\n",
    "            u = stats.uniform.rvs(loc=0, scale=1, size=1)\n",
    "            if u < sum(w_prop)/sum(w_back):\n",
    "                theta2 = theta2_prop[ix]\n",
    "                accept2 += 1\n",
    "            \n",
    "        MTMGsamples[t] = theta1, theta2\n",
    "    \n",
    "    return MTMGsamples, count1, count2, accept1, accept2"
   ]
  },
  {
   "cell_type": "code",
   "execution_count": 47,
   "metadata": {
    "collapsed": false
   },
   "outputs": [],
   "source": [
    "MTMGsamples, count1, count2, accept1, accept2 = MTMG(n_iter=n_iter, M=M, sigma1=sigma1, sigma2=sigma2, post=post)"
   ]
  },
  {
   "cell_type": "code",
   "execution_count": 48,
   "metadata": {
    "collapsed": false
   },
   "outputs": [
    {
     "data": {
      "text/plain": [
       "<matplotlib.axes._subplots.AxesSubplot at 0x7f3a43b8cd68>"
      ]
     },
     "execution_count": 48,
     "metadata": {},
     "output_type": "execute_result"
    },
    {
     "name": "stderr",
     "output_type": "stream",
     "text": [
      "/opt/conda/lib/python3.4/site-packages/matplotlib/collections.py:590: FutureWarning: elementwise comparison failed; returning scalar instead, but in the future will perform elementwise comparison\n",
      "  if self._edgecolors == str('face'):\n"
     ]
    },
    {
     "data": {
      "image/png": "[encoded data removed]",
      "text/plain": [
       "<matplotlib.figure.Figure at 0x7f3a43b74390>"
      ]
     },
     "metadata": {},
     "output_type": "display_data"
    }
   ],
   "source": [
    "sns.kdeplot(MTMGsamples[:,0], MTMGsamples[:,1], camps='Reds', kind=\"kde\",shade=True,shade_lowest=False)"
   ]
  },
  {
   "cell_type": "markdown",
   "metadata": {},
   "source": [
    "## Variation 2: Langevin-within-MTM"
   ]
  },
  {
   "cell_type": "code",
   "execution_count": 161,
   "metadata": {
    "collapsed": true
   },
   "outputs": [],
   "source": [
    "# @jit\n",
    "def U(x, y):\n",
    "    if x > -1 and x < 1 and y > -1 and y < 1:\n",
    "        energy  = (x*np.sin(20*y)+y*np.sin(20*x))**2+(x*np.cos(10*y)-y*np.sin(10*x))**2\n",
    "    else: energy = 1e10\n",
    "    return energy"
   ]
  },
  {
   "cell_type": "code",
   "execution_count": 52,
   "metadata": {
    "collapsed": true
   },
   "outputs": [],
   "source": [
    "# @jit\n",
    "def grad_U(x,y):\n",
    "    if x > -1 and x < 1 and y > -1 and y < 1:\n",
    "        grad = 2*(x*np.sin(20*y)+y*np.sin(20*x))*np.array([np.sin(20*y)+20*y*np.cos(20*x),20*x*np.cos(20*y)+np.sin(20*x)])+2*(x*np.cos(10*y)-y*np.sin(10*x))*np.array([np.cos(10*y)-10*y*np.cos(10*x),-10*x*np.sin(10*y)-np.sin(10*x)])\n",
    "    else: grad = np.array([0,0])\n",
    "    return grad"
   ]
  },
  {
   "cell_type": "code",
   "execution_count": 152,
   "metadata": {
    "collapsed": false
   },
   "outputs": [],
   "source": [
    "xaxis = np.arange(-1, 1, 0.01)\n",
    "yaxis = np.arange(-1, 1, 0.01)\n",
    "Z = np.reshape(np.array([U(a,b) for a in xaxis for b in yaxis]),newshape=[200,200])"
   ]
  },
  {
   "cell_type": "code",
   "execution_count": 153,
   "metadata": {
    "collapsed": false
   },
   "outputs": [
    {
     "name": "stderr",
     "output_type": "stream",
     "text": [
      "/usr/lib/python3/dist-packages/matplotlib/collections.py:609: FutureWarning: elementwise comparison failed; returning scalar instead, but in the future will perform elementwise comparison\n",
      "  if self._edgecolors_original != 'face':\n"
     ]
    },
    {
     "data": {
      "text/plain": [
       "<matplotlib.contour.QuadContourSet at 0x7f608d18e5c0>"
      ]
     },
     "execution_count": 153,
     "metadata": {},
     "output_type": "execute_result"
    },
    {
     "name": "stderr",
     "output_type": "stream",
     "text": [
      "/usr/lib/python3/dist-packages/matplotlib/collections.py:549: FutureWarning: elementwise comparison failed; returning scalar instead, but in the future will perform elementwise comparison\n",
      "  if self._edgecolors == 'face':\n"
     ]
    },
    {
     "data": {
      "image/png": "[encoded data removed]",
      "text/plain": [
       "<matplotlib.figure.Figure at 0x7f608d3665f8>"
      ]
     },
     "metadata": {},
     "output_type": "display_data"
    }
   ],
   "source": [
    "X, Y = np.meshgrid(xaxis, yaxis)\n",
    "plt.figure()\n",
    "plt.contour(X, Y, Z)"
   ]
  },
  {
   "cell_type": "code",
   "execution_count": 169,
   "metadata": {
    "collapsed": false
   },
   "outputs": [
    {
     "name": "stdout",
     "output_type": "stream",
     "text": [
      "Help on built-in function randn:\n",
      "\n",
      "randn(...) method of mtrand.RandomState instance\n",
      "    randn(d0, d1, ..., dn)\n",
      "    \n",
      "    Return a sample (or samples) from the \"standard normal\" distribution.\n",
      "    \n",
      "    If positive, int_like or int-convertible arguments are provided,\n",
      "    `randn` generates an array of shape ``(d0, d1, ..., dn)``, filled\n",
      "    with random floats sampled from a univariate \"normal\" (Gaussian)\n",
      "    distribution of mean 0 and variance 1 (if any of the :math:`d_i` are\n",
      "    floats, they are first converted to integers by truncation). A single\n",
      "    float randomly sampled from the distribution is returned if no\n",
      "    argument is provided.\n",
      "    \n",
      "    This is a convenience function.  If you want an interface that takes a\n",
      "    tuple as the first argument, use `numpy.random.standard_normal` instead.\n",
      "    \n",
      "    Parameters\n",
      "    ----------\n",
      "    d0, d1, ..., dn : int, optional\n",
      "        The dimensions of the returned array, should be all positive.\n",
      "        If no argument is given a single Python float is returned.\n",
      "    \n",
      "    Returns\n",
      "    -------\n",
      "    Z : ndarray or float\n",
      "        A ``(d0, d1, ..., dn)``-shaped array of floating-point samples from\n",
      "        the standard normal distribution, or a single such float if\n",
      "        no parameters were supplied.\n",
      "    \n",
      "    See Also\n",
      "    --------\n",
      "    random.standard_normal : Similar, but takes a tuple as its argument.\n",
      "    \n",
      "    Notes\n",
      "    -----\n",
      "    For random samples from :math:`N(\\mu, \\sigma^2)`, use:\n",
      "    \n",
      "    ``sigma * np.random.randn(...) + mu``\n",
      "    \n",
      "    Examples\n",
      "    --------\n",
      "    >>> np.random.randn()\n",
      "    2.1923875335537315 #random\n",
      "    \n",
      "    Two-by-four array of samples from N(3, 6.25):\n",
      "    \n",
      "    >>> 2.5 * np.random.randn(2, 4) + 3\n",
      "    array([[-4.49401501,  4.00950034, -1.81814867,  7.29718677],  #random\n",
      "           [ 0.39924804,  4.68456316,  4.99394529,  4.84057254]]) #random\n",
      "\n"
     ]
    }
   ],
   "source": [
    "help(np.random.randn)"
   ]
  },
  {
   "cell_type": "code",
   "execution_count": 175,
   "metadata": {
    "collapsed": true
   },
   "outputs": [],
   "source": [
    "def Langevin(U, grad_U, eps, x0, y0, M):\n",
    "    \n",
    "    x = x0\n",
    "    y = y0\n",
    "    \n",
    "    p = np.random.randn(2*M).reshape(M,2)\n",
    "    current_p = p\n",
    "    \n",
    "    p = p - eps * grad_U(x,y)/2\n",
    "    \n",
    "    XY = [x, y] + eps * p\n",
    "            \n",
    "    p = p - eps * np.array([grad_U(a,b) for [a,b] in XY])/2\n",
    "    \n",
    "    p = -p\n",
    "    \n",
    "    proposed_U = np.array([U(a,b) for [a,b] in XY])\n",
    "    proposed_K = np.sum(p**2,axis=1)/2\n",
    "        \n",
    "    w = np.exp(-proposed_U-proposed_K)\n",
    "        \n",
    "    return XY, w"
   ]
  },
  {
   "cell_type": "code",
   "execution_count": 194,
   "metadata": {
    "collapsed": true
   },
   "outputs": [],
   "source": [
    "n_iter = 10000\n",
    "M = 30\n",
    "# tuning parameter:\n",
    "eps=0.1"
   ]
  },
  {
   "cell_type": "code",
   "execution_count": 195,
   "metadata": {
    "collapsed": false
   },
   "outputs": [],
   "source": [
    "# initial state\n",
    "X = stats.uniform.rvs(loc=-1, scale=2, size=2, random_state=None)\n",
    "X = np.array([-0.90,-0.93])\n",
    "\n",
    "# record the number of acceptances\n",
    "accept = 0\n",
    "\n",
    "# store the samples\n",
    "MTMsamples = np.zeros((n_iter,2))\n",
    "\n",
    "# tuning parameter:\n",
    "# sigma: variance of the proposal\n",
    "\n",
    "# MTM sampler\n",
    "for t in range(n_iter):\n",
    "        \n",
    "    # proposal importance probabilities\n",
    "    Y, w_prop = Langevin(U, grad_U, eps=eps, x0=X[0], y0=X[0], M=M)\n",
    "    \n",
    "    # index of the chosen trial point\n",
    "    ix = np.random.choice(M, 1, p=w_prop/sum(w_prop))\n",
    "    \n",
    "    # draw M-1 samples \n",
    "    X_star, w_back = Langevin(U, grad_U, eps=eps, x0=Y[ix][0][0], y0=Y[ix][0][1], M=M-1)\n",
    "    \n",
    "    # add X as M th sample\n",
    "    X_star = np.vstack((X_star,X))\n",
    "    \n",
    "    # back importance probabilities\n",
    "    p = (X-Y[ix])/eps\n",
    "    p = p - eps * grad_U(X[0],X[1])/2\n",
    "\n",
    "    w_back = np.append(w_back,np.exp(-U(X[0],X[1])-sum((p**2)[0]/2)))\n",
    "    \n",
    "    # accept or reject\n",
    "    u = stats.uniform.rvs(loc=0, scale=1, size=1)\n",
    "    if u < sum(w_prop)/sum(w_back):\n",
    "        X = Y[ix][0]\n",
    "        accept += 1\n",
    "    MTMsamples[t] = X"
   ]
  },
  {
   "cell_type": "code",
   "execution_count": 196,
   "metadata": {
    "collapsed": false
   },
   "outputs": [
    {
     "data": {
      "text/plain": [
       "(array([[-0.95723844, -0.95059718],\n",
       "        [-0.91548264, -0.96598202],\n",
       "        [-0.97170262, -0.8741936 ],\n",
       "        ..., \n",
       "        [ 0.02498359, -0.01124859],\n",
       "        [ 0.13994389,  0.09320168],\n",
       "        [ 0.21848599,  0.21490649]]), 4554)"
      ]
     },
     "execution_count": 196,
     "metadata": {},
     "output_type": "execute_result"
    }
   ],
   "source": [
    "MTMsamples,accept"
   ]
  },
  {
   "cell_type": "code",
   "execution_count": 197,
   "metadata": {
    "collapsed": false
   },
   "outputs": [
    {
     "data": {
      "text/plain": [
       "<matplotlib.axes.AxesSubplot at 0x7f608d3ae240>"
      ]
     },
     "execution_count": 197,
     "metadata": {},
     "output_type": "execute_result"
    },
    {
     "name": "stderr",
     "output_type": "stream",
     "text": [
      "/usr/lib/python3/dist-packages/matplotlib/collections.py:549: FutureWarning: elementwise comparison failed; returning scalar instead, but in the future will perform elementwise comparison\n",
      "  if self._edgecolors == 'face':\n"
     ]
    },
    {
     "data": {
      "image/png": "[encoded data removed]",
      "text/plain": [
       "<matplotlib.figure.Figure at 0x7f608d32a0b8>"
      ]
     },
     "metadata": {},
     "output_type": "display_data"
    }
   ],
   "source": [
    "sns.kdeplot(MTMsamples[:,0], MTMsamples[:,1], camps='Reds', kind=\"kde\",shade=True,shade_lowest=False)"
   ]
  }
 ],
 "metadata": {
  "kernelspec": {
   "display_name": "Python 3",
   "language": "python",
   "name": "python3"
  },
  "language_info": {
   "codemirror_mode": {
    "name": "ipython",
    "version": 3
   },
   "file_extension": ".py",
   "mimetype": "text/x-python",
   "name": "python",
   "nbconvert_exporter": "python",
   "pygments_lexer": "ipython3",
   "version": "3.5.1"
  }
 },
 "nbformat": 4,
 "nbformat_minor": 0
}
