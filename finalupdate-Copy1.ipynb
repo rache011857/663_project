{
 "cells": [
  {
   "cell_type": "markdown",
   "metadata": {
    "collapsed": true
   },
   "source": [
    "# The Multiple-Try Metropolis and its Variations"
   ]
  },
  {
   "cell_type": "markdown",
   "metadata": {},
   "source": [
    "## Abstract"
   ]
  },
  {
   "cell_type": "markdown",
   "metadata": {},
   "source": [
    "Markov Chain Monte Carlo (MCMC) has been extensively applied in many complicated computational problems to sample from an arbitrary distribution. The fundamental idea is to generate a Markov chain whose invariant distribution is the target distribution. The traditional Metropolis-Hastings algorithm (MH) based on local search may suffer from slow converging problem since the sampler may get stuck in a local mode especially for multimodal parameter spaces. Multiple-try Metropolis (MTM) was proposed to overcome this difficulty by proposing multiple trial points and then sampling based on their importance. The numerical experiments illustrate that the sampler can efficiently explore the parameter space. This project will prove the validity of MTM and implement the algorithm and its variations including Griddy-Gibbs Multiple-Try Metropolis (MTM-Gibbs) and Langevin-within-MTM on artificial data and real dataset. Comparisons are made to show the superiority of the algorithm over traditional MH algorithms."
   ]
  },
  {
   "cell_type": "markdown",
   "metadata": {},
   "source": [
    "## 1. Introduction"
   ]
  },
  {
   "cell_type": "markdown",
   "metadata": {},
   "source": [
    "Monte Carlo statistical methods have been widely recognized as a essential part of the standard set of scientific computing. Particularly, MCMC has been extensively applied in many complicated computational problems in many different fields. The conceptual understanding about this algorithm is to draw samples approximately distributed from  a target distribution without directly sampling from it by constructing an ergodic Markov chain with the target distribution as the invariant distribution.\n",
    "\n",
    "The traditional MH algorithm is one of the representatives of MCMC. This fundamental algorithm is powerful in the sense that it is highly flexible and can be adapted in terms of specific problems. One commonly used variation of the MH algorithm is the Gibbs sampler which ameliorate the difficulty that sampling from a multivariate distribution by alternatively sampling from the conditional distribution of each component. However, the key feature of these algorithms--proposing new trial samples based on local moves--often lead to unsatisfactory properties of the samples. Specifically, the algorithms may suffer from slow convergence and the samples can be highly correlated which result in the difficulty on making statistical inferences. In addition, trapping in local mode is also a major imperfection of this algorithm. \n",
    "\n",
    "A natural idea is to enlarge the area for the proposal while it often comes along a small MH ratio resulting in an inefficient algorithm. To mitigate this problem, Liu, Liang and Wong (2000) proposed MTM method. This method differs from the classical MH by proposing a multiple candidate points rather than a simple point for each iteration. As a result, the algorithm is more robust and efficient for effectively exploring the state space of parameters.\n",
    "\n",
    "This project intends to study the MTM algorithm to a further extent. Since no existing code was found on these methods, we will concentrate on developing code of them rather than providing a highly optimized code (Note that it is limited to optimize the code for MCMC algorithm since to build a Markov chain, the algorithm has to be implemented sequentially rather than in parallel.). The rest of this project is organized as follows. In section 2, A general form of the MTM algorithm is provided and theoretically proved to be valid. Two variations, MTM-Gibbs and Langevin-within-MTM, are discussed. In section 3, the algorithms are implemented on two artificial examples and one real dataset. Comparisons with other state-of-the-art algorithms are made to demonstrate the superiority of the MTM algorithm. We optimize the code in section 4, and conclude with some final comments in section 5."
   ]
  },
  {
   "cell_type": "markdown",
   "metadata": {},
   "source": [
    "## 2. The algorithm and its variations"
   ]
  },
  {
   "cell_type": "markdown",
   "metadata": {},
   "source": [
    "In this section, we will introduce the multiple-try metropolis as well as its variations. In the traditional MH algorithm, some basic settings are as follows. Firstly, let $T(x_i,x_{i+1})$ be a transition function which defines the probability that transition from $x_i$ to $x_{i+1}$. Next, a score function used for evaluating trial points is defined as follows,\n",
    "\\begin{equation*}\n",
    "w(x_i,x_{i+1}) = \\pi(x_i) T(x_i,x_{i+1}) \\lambda (x_i,x_{i+1})\n",
    "\\end{equation*}\n",
    "where $\\pi$ is the target distribution and $\\lambda (x_i,x_{i+1})$ is an adjustment function to enhance the power of the algorithm, which is nonnegative and symmetric.\n",
    "\n",
    "Two basic requirements should be satisfied.\n",
    "1. $T(x_{i},x_{i+1})  > 0$ if and only if $T(x_{i+1},x_i)  > 0$\n",
    "2. If $T(x_{i},x_{i+1})  > 0$, then $\\lambda (x_i,x_{i+1}) >0$\n",
    "The choices of $\\lambda (x_i,x_{i+1})$ may vary under different situations. "
   ]
  },
  {
   "cell_type": "markdown",
   "metadata": {},
   "source": [
    "### 2.1 General form of Multiple-try Metropolis"
   ]
  },
  {
   "cell_type": "markdown",
   "metadata": {},
   "source": [
    "#### 2.1.1 Algorithm"
   ]
  },
  {
   "cell_type": "markdown",
   "metadata": {},
   "source": [
    "The MTM algorithm can be achieved through 4 steps.  \n",
    "1. Sample $k$ iid trials $x_{t+1}^{1},..., x_{t+1}^{k}$ from $T(x_i, \\cdot)$. Compute $w(x_{t+1}^{j},x_{t})$ for $j=1,...,k$.\n",
    "2. Select $x = x_{t+1}$ among the proposal set $\\{x_{t+1}^{1},..., x_{t+1}^{k}\\}$ with probability propotional to $\\{w(x_{t+1}^{1},x_t),...,w(x_{t+1}^{k},x_t)\\}$.\n",
    "3. Sample $x_{\\star}^{1},...,x_{\\star}^{k-1}$ from the distribution $T(x_{t+1},\\cdot)$, and let $x_{\\star}^{k}=x_{t}$.\n",
    "4. Accept $x$ with probability \n",
    "$$\n",
    "r = \\text{min}\\left\\{ 1, \\frac{w(x_{t+1}^{1},x_{t})+\\cdot \\cdot \\cdot+w(x_{t+1}^{k},x_{t})} {w(x_{\\star}^{1},x_{t+1})+\\cdot \\cdot \\cdot+w(x_{\\star}^{k},x_{t+1})} \\right\\}\n",
    "$$\n",
    "and reject it with probability $1-r$. The quantity $r$ is called generlaized MH ratio. "
   ]
  },
  {
   "cell_type": "markdown",
   "metadata": {},
   "source": [
    "#### 2.1.2 Theoretical Justification"
   ]
  },
  {
   "cell_type": "markdown",
   "metadata": {},
   "source": [
    "The reversibility of the Markov chain is justified by proving the detailed balance condition."
   ]
  },
  {
   "cell_type": "markdown",
   "metadata": {},
   "source": [
    "Let $P(x_{i},x)$ be the actual transition probability from $x_{i}$ to $x$.  Then we have\n",
    "\\begin{align*}\n",
    "\\pi(x_i)P(x_{i},x)&=\\pi(x_i)\\mathsf{P}\\bigg[\\bigcup_{j=1}^k\\{(x_{i+1}^j=x)\\cap (x_{i+1}^j \\text{is chosen})\\}x_{i}\\bigg]\\\\\n",
    "&=k\\pi(x_i)\\mathsf{P}[(x_{i+1}^k=x)\\cap (x_{i+1}^k \\text{is chosen})\\}x_{i}]\\quad \\text{(since $x_{i+1}^j$ are exchangeable)}\\\\\n",
    "&=k\\pi(x_i)\\int\\cdots\\int T(x_{i},x)T(x_{i},x_{i+1}^1)\\cdots T(x_{i},x_{i+1}^{k-1})\\quad \\text{(choosing $y,y_1,...,y_{k-1}$)}\\\\\n",
    "&\\quad\\times \\frac{w(x,x_{i})}{w(x,x_{i})+\\sum_{j=1}^{k-1}w(x_{i+1}^j,x_i)}\\quad \\text{(selecting $y$)}\\\\\n",
    "&\\quad\\times \\text{min}\\left\\{ 1, \\frac{w(x,x_{i})+\\sum_{j=1}^{k-1}w(x_{i+1}^{j},x_{i})}{w(x_{i},x)+\\sum_{j=1}^{k-1}w(x_{\\star}^{j},x)} \\right\\}\\quad \\text{(accepting $y$)}\\\\\n",
    "&\\quad\\times T(x,x_{\\star}^1)\\cdots T(x,x_{\\star}^{k-1})d x_{i+1}^1\\cdots dx_{i+1}^{k-1}dx_{\\star}^1\\cdots dx_{\\star}^{k-1}\\quad \\text{(choosing $x_{\\star}^1,...,x_{\\star}^{k-1}$)}\\\\\n",
    "&=k\\frac{w(x_{i},x)w(x,x_{i})}{\\lambda(x_{i},x)}\\int\\cdots\\int \\text{min}\\left\\{ \\frac{1}{w(x,x_{i})+\\sum_{j=1}^{k-1}w(x_{i+1}^j,x_{i})}, \\frac{1}{w(x_{i},x)+\\sum_{j=1}^{k-1}w(x_{\\star}^{j},x)} \\right\\}\\\\\n",
    "&\\quad\\times T(x,x_{\\star}^1)\\cdots T(x,x_{\\star}^{k-1})d x_{i+1}^1\\cdots dx_{i+1}^{k-1}dx_{\\star}^1\\cdots dx_{\\star}^{k-1}\\\\\n",
    "&=\\pi(x)P(x,x_{i})\n",
    "\\end{align*}"
   ]
  },
  {
   "cell_type": "markdown",
   "metadata": {},
   "source": [
    "Therefore, this method will produce an ergodic Markov chain leaving $\\pi$ as the invariant distribution."
   ]
  },
  {
   "cell_type": "markdown",
   "metadata": {},
   "source": [
    "### 2.2 Two variations"
   ]
  },
  {
   "cell_type": "markdown",
   "metadata": {},
   "source": [
    "#### 2.1.2 Griddy Gibbs Multiple-Try Metropolis"
   ]
  },
  {
   "cell_type": "markdown",
   "metadata": {},
   "source": [
    "**Algorithm**\n",
    "\n",
    "One of the major characteristic of the Gibbs sampler is that it is constructed based on the conditional distribution. However, in many cases, it is intracable to derive the conditional distribution for sampling. The griddy Gibbs sampler (Ritter and tanner (1992)) solves the computational challenge. Combined with MTM method, the MTM-Gibbs algorithm is designed to enhance the performance of the MTM.\n",
    "\n",
    "Assume $\\mathbf{X} = \\mathbf{x}$ where $\\mathbf{x}=(x(1),...,x(d))$, the algorithm of MTM-Gibbs is illustrated as follows,\n",
    "\n",
    "1. Select any element of $\\mathbf{x}$, say $x{i}$. Sample $y_1,..., y_k$ iid from a transition function $T(x(i),.)$ in line with the direction of $x(i)$, and calculate \n",
    "\\begin{equation*}\n",
    "w(y_j,x(i)) = \\pi(x(1),...,x(i-1),y_j,x(i+1),...,x(d)) T(y_j,x(i)) \\lambda(y_j,x(i)),\n",
    "\\end{equation*}\n",
    "for j = 1,2,...,k.\n",
    "\n",
    "2. Select $y=y_j$ with probability proportional to $w(y_j,x(i))$. Draw $k-1$ iid samples from T(y,.), denote by $s_1,...,s_{k-1}$. Make $s_k=x(i)$.\n",
    "\n",
    "3. Compute the generalized Metropolis ratio r defined above, accept $y$ with probability $r$ and reject with $1-r$.a"
   ]
  },
  {
   "cell_type": "markdown",
   "metadata": {},
   "source": [
    "\n",
    "\n",
    "\n",
    "\n",
    "**Model Specification: Mixture Gaussian distribution**\n",
    "\n",
    "The follwoing settings are used in our testification of the algorithm.\n",
    "\n",
    "Initial state: \n",
    "$x_0^{i} = \\text{Uni}(-5,5)\\quad i = 1,2$\n",
    "\n",
    "The proposal function $T(.)$:\n",
    "$\n",
    "\\left(\\begin{array}{c}\n",
    "x_{t+1}^{1}  \\\\\n",
    "x_{t+1}^{2} \n",
    "\\end{array}\n",
    "\\right) = \\left(\\begin{array}{c}\n",
    "x_{t}^{1}  \\\\\n",
    "x_{t}^{2} \n",
    "\\end{array}\n",
    "\\right)+\\mathbf{N}_2(\\mathbf{0},\\sigma^2 \\mathbf{I}_2)\n",
    "$\n",
    "\n",
    "The probability density function:\n",
    "$$\n",
    "\\pi(x)=\\frac{1}{3}\\mathbf{N}_2(\\mathbf{0},\\mathbf{I}_2)+\\frac{1}{3}\\mathbf{N}_2\\biggl\\{\\left(\\begin{array}{c}\n",
    "-6 \\\\\n",
    "-6\n",
    "\\end{array}\n",
    "\\right),\\left(\\begin{array}{cc}\n",
    "1 & 0.9 \\\\\n",
    "0.9 & 1\n",
    "\\end{array}\n",
    "\\right)\n",
    "\\biggr\\}+\\frac{1}{3}\\mathbf{N}_2\\biggl\\{\\left(\\begin{array}{c}\n",
    "4 \\\\\n",
    "4\n",
    "\\end{array}\n",
    "\\right),\\left(\\begin{array}{cc}\n",
    "1 & -0.9 \\\\\n",
    "-0.9 & 1\n",
    "\\end{array}\n",
    "\\right)\n",
    "\\biggr\\}$$\n",
    "\n",
    "The adjustment function $\\lambda (x_i,x_{i+1}) = 1$\n",
    "\n",
    "\n",
    "\n",
    "\n",
    "#### Griddy Gibbs Multiple-Try Metropolis\n",
    "**Algorithm**\n",
    "\n",
    "One of the major characteristic of the Gibbs sampler is that it is constructed based on the conditional distribution. However, in many cases, it is intracable to derive the conditional distribution for sampling. The griddy Gibbs sampler (Ritter and tanner (1992)) solves the computational challenge. Combined with MTM method, the MTM-Gibbs algorithm is designed to enhance the performance of the MTM.\n",
    "\n",
    "Assume $\\mathbf{X} = \\mathbf{x}$ where $\\mathbf{x}=(x(1),...,x(d))$, the algorithm of MTM-Gibbs is illustrated as follows,\n",
    "\n",
    "1. Select any element of $\\mathbf{x}$, say $x{i}$. Sample $y_1,..., y_k$ iid from a transition function $T(x(i),.)$ in line with the direction of $x(i)$, and calculate \n",
    "\\begin{equation*}\n",
    "w(y_j,x(i)) = \\pi(x(1),...,x(i-1),y_j,x(i+1),...,x(d)) T(y_j,x(i)) \\lambda(y_j,x(i)),\n",
    "\\end{equation*}\n",
    "for j = 1,2,...,k.\n",
    "\n",
    "2. Select $y=y_j$ with probability proportional to $w(y_j,x(i))$. Draw $k-1$ iid samples from T(y,.), denote by $s_1,...,s_{k-1}$. Make $s_k=x(i)$.\n",
    "\n",
    "3. Compute the generalized Metropolis ratio r defined above, accept $y$ with probability $r$ and reject with $1-r$.\n",
    "\n",
    "**Model Specification: Non-linear model**\n",
    "\n",
    "The model used in testing the MTM-Gibbs is defined as follows,\n",
    "$$y_i=\\theta_1(1-\\exp(-\\theta_2x_i))+\\varepsilon_i$$\n",
    "where $y$ is the Biochemical Oxygen Demand (BOD) at time $x$ with independent normal errors with constant variance $\\sigma^2$.\n",
    "\n",
    "The following settings are used in our testification of the algorithm.\n",
    "\n",
    "Initial state: $\\theta_i = \\text{Uni}(-1,1) \\quad i = 1,2$\n",
    "\n",
    "The proposal function $T(.)$:\n",
    "$\\theta_{t+1}^{i} = \\theta_{t+1}^{i} + \\mathbf{N}(0,\\sigma^2)\\quad i = 1,2$\n",
    "\n",
    "The adjustment function $\\lambda (x_i,x_{i+1}) = 1$\n",
    "\n",
    "\n",
    "#### Langevin-within-MTM\n",
    "**Algorithm**\n",
    "\n",
    "In this method, we combined the langevin with MTM, in which langevin is one of the representatives of halmiltonian dynamics. The general form of hamiltonian dynamics is defined as follows,\n",
    "\n",
    "$H(p,q) = U(q) + K(p)$\n",
    "\n",
    "where \n",
    "$U(p) = - log( \\pi(q))$; $K(p) = p^T M^{-1} p / 2$\n",
    "\n",
    "The hamiltonian dynamics provide a sampling which which can then be combined with MTM. \n",
    "\n",
    "\n",
    "\n",
    "**Model Specification: **\n"
   ]
  },
  {
   "cell_type": "markdown",
   "metadata": {},
   "source": []
  },
  {
   "cell_type": "markdown",
   "metadata": {},
   "source": [
    "# Implementation"
   ]
  },
  {
   "cell_type": "markdown",
   "metadata": {},
   "source": [
    "#### Multiple-try Metropolis"
   ]
  },
  {
   "cell_type": "markdown",
   "metadata": {},
   "source": [
    "### Toy example"
   ]
  },
  {
   "cell_type": "code",
   "execution_count": 71,
   "metadata": {
    "collapsed": false
   },
   "outputs": [],
   "source": [
    "import numba\n",
    "from numba import jit\n",
    "import numpy as np\n",
    "import scipy.stats as stats\n",
    "import seaborn as sns\n",
    "import pandas as pd\n",
    "import matplotlib.mlab as mlab\n",
    "import matplotlib.cm as cm\n",
    "import matplotlib.pyplot as plt\n",
    "% matplotlib inline"
   ]
  },
  {
   "cell_type": "markdown",
   "metadata": {},
   "source": [
    "#### Sampling from a two-dimensional mixture Gaussian Distribution $\\pi(x)$\n",
    "$$\n",
    "\\pi(x)=\\frac{1}{3}\\mathbf{N}_2(\\mathbf{0},\\mathbf{I}_2)+\\frac{1}{3}\\mathbf{N}_2\\biggl\\{\\left(\\begin{array}{c}\n",
    "-6 \\\\\n",
    "-6\n",
    "\\end{array}\n",
    "\\right),\\left(\\begin{array}{cc}\n",
    "1 & 0.9 \\\\\n",
    "0.9 & 1\n",
    "\\end{array}\n",
    "\\right)\n",
    "\\biggr\\}+\\frac{1}{3}\\mathbf{N}_2\\biggl\\{\\left(\\begin{array}{c}\n",
    "4 \\\\\n",
    "4\n",
    "\\end{array}\n",
    "\\right),\\left(\\begin{array}{cc}\n",
    "1 & -0.9 \\\\\n",
    "-0.9 & 1\n",
    "\\end{array}\n",
    "\\right)\n",
    "\\biggr\\}$$"
   ]
  },
  {
   "cell_type": "code",
   "execution_count": 72,
   "metadata": {
    "collapsed": true
   },
   "outputs": [],
   "source": [
    "def norm_mix(x):\n",
    "    target = stats.multivariate_normal.pdf(x,[0,0],[[1,0],[0,1]])+stats.multivariate_normal.pdf(x,[-6,-6],[[1,0.9],[0.9,1]])+stats.multivariate_normal.pdf(x,[4,4],[[1,-0.9],[-0.9,1]])\n",
    "    return target"
   ]
  },
  {
   "cell_type": "code",
   "execution_count": 12,
   "metadata": {
    "collapsed": false
   },
   "outputs": [
    {
     "data": {
      "text/plain": [
       "400"
      ]
     },
     "execution_count": 12,
     "metadata": {},
     "output_type": "execute_result"
    }
   ],
   "source": [
    "x=np.linspace(-8,6,400)\n",
    "len(x)"
   ]
  },
  {
   "cell_type": "code",
   "execution_count": 75,
   "metadata": {
    "collapsed": false
   },
   "outputs": [],
   "source": [
    "x = y = np.linspace(-8,6,400)\n",
    "X, Y = np.meshgrid(x,y)\n",
    "Z1 = mlab.bivariate_normal(X, Y, 1.0, 1.0, -6, -6, 0.9)\n",
    "Z2 = mlab.bivariate_normal(X, Y, 1.0, 1.0, 4, 4, -0.9)\n",
    "Z3 = mlab.bivariate_normal(X, Y, 1.0, 1.0, 0.0, 0.0)\n",
    "Z = (Z1+Z2+Z3)/3"
   ]
  },
  {
   "cell_type": "code",
   "execution_count": 81,
   "metadata": {
    "collapsed": false
   },
   "outputs": [
    {
     "data": {
      "text/plain": [
       "0.12170883286535868"
      ]
     },
     "execution_count": 81,
     "metadata": {},
     "output_type": "execute_result"
    }
   ],
   "source": [
    "np.max(Z)"
   ]
  },
  {
   "cell_type": "code",
   "execution_count": 83,
   "metadata": {
    "collapsed": false
   },
   "outputs": [
    {
     "name": "stderr",
     "output_type": "stream",
     "text": [
      "/opt/conda/lib/python3.4/site-packages/matplotlib/collections.py:650: FutureWarning: elementwise comparison failed; returning scalar instead, but in the future will perform elementwise comparison\n",
      "  if self._edgecolors_original != str('face'):\n",
      "/opt/conda/lib/python3.4/site-packages/matplotlib/collections.py:590: FutureWarning: elementwise comparison failed; returning scalar instead, but in the future will perform elementwise comparison\n",
      "  if self._edgecolors == str('face'):\n"
     ]
    },
    {
     "data": {
      "image/png": "[encoded data removed]",
      "text/plain": [
       "<matplotlib.figure.Figure at 0x7fa1c5bffdd8>"
      ]
     },
     "metadata": {},
     "output_type": "display_data"
    }
   ],
   "source": [
    "plt.figure()\n",
    "\n",
    "plt.hot()                                    # set 'hot' as default colour map\n",
    "im = plt.imshow(Z, interpolation='bilinear', # creates background image\n",
    "                origin='lower', cmap=cm.Blues, \n",
    "                extent=(-8,6,-8,6))\n",
    "\n",
    "levels = np.arange(0, 0.13, 0.001)           # levels\n",
    "\n",
    "CS = plt.contour(Z, levels,\n",
    "                 origin='lower',             # origin in lower-left corner\n",
    "                 linewidths=2,               # line width\n",
    "                 extent=(-8,6,-8,6))         # outer pixel boundaries\n",
    "\n",
    "CB = plt.colorbar(CS, shrink=0.8,                 # vertical colour bar\n",
    "                  extend='both')\n",
    "\n",
    "CBI = plt.colorbar(im, orientation='horizontal',  # horizontal colour bar\n",
    "             shrink=0.8)\n",
    "\n",
    "l,b,w,h = plt.gca().get_position().bounds\n",
    "ll,bb,ww,hh = CB.ax.get_position().bounds\n",
    "CB.ax.set_position([ll, b+0.1*h, ww, h*0.8])      # shrinks the vertical bar\n",
    "\n",
    "plt.title('Contour Plot - colour bars')           # title\n",
    "\n",
    "plt.show()"
   ]
  },
  {
   "cell_type": "markdown",
   "metadata": {},
   "source": [
    "#### Method 1: Traditional Metropolis-Hastings sampler"
   ]
  },
  {
   "cell_type": "code",
   "execution_count": 43,
   "metadata": {
    "collapsed": false
   },
   "outputs": [],
   "source": [
    "n_iter = 50000\n",
    "sigma = 2\n",
    "\n",
    "# initial state\n",
    "X = stats.uniform.rvs(loc=-5, scale=10, size=2, random_state=None)\n",
    "\n",
    "# record the number of acceptances\n",
    "accept = 0\n",
    "\n",
    "# store the samples\n",
    "MHsamples = np.zeros((n_iter,2))\n",
    "\n",
    "# tuning parameter:\n",
    "# sigma: variance of proposal\n",
    "\n",
    "# MH sampler\n",
    "for t in range(n_iter):\n",
    "    # proposal: independent N(0,sigma)\n",
    "    Y = X+stats.norm.rvs(0,sigma,2)\n",
    "       \n",
    "    # accept or reject\n",
    "    u = stats.uniform.rvs(loc=0, scale=1, size=1)\n",
    "    if u < norm_mix(Y)/norm_mix(X):\n",
    "        X = Y\n",
    "        accept += 1\n",
    "    MHsamples[t] = X"
   ]
  },
  {
   "cell_type": "code",
   "execution_count": 44,
   "metadata": {
    "collapsed": false
   },
   "outputs": [
    {
     "data": {
      "text/plain": [
       "<matplotlib.axes._subplots.AxesSubplot at 0x7f5cfc166358>"
      ]
     },
     "execution_count": 44,
     "metadata": {},
     "output_type": "execute_result"
    },
    {
     "name": "stderr",
     "output_type": "stream",
     "text": [
      "/opt/conda/lib/python3.4/site-packages/matplotlib/collections.py:590: FutureWarning: elementwise comparison failed; returning scalar instead, but in the future will perform elementwise comparison\n",
      "  if self._edgecolors == str('face'):\n"
     ]
    },
    {
     "data": {
      "image/png": "[encoded data removed]",
      "text/plain": [
       "<matplotlib.figure.Figure at 0x7f5cfc0a5438>"
      ]
     },
     "metadata": {},
     "output_type": "display_data"
    }
   ],
   "source": [
    "sns.kdeplot(MHsamples[:,0], MHsamples[:,1], camps='Reds', kind=\"kde\",shade=True,shade_lowest=False)"
   ]
  },
  {
   "cell_type": "markdown",
   "metadata": {},
   "source": [
    "#### Method 2: MTM sampler"
   ]
  },
  {
   "cell_type": "code",
   "execution_count": null,
   "metadata": {
    "collapsed": true
   },
   "outputs": [],
   "source": [
    "# try to write an independant mtm algorithm without model specification\n",
    "def w(x,y):\n",
    "    return pi(x)*T(x,y,k)*lamda(x,y) \n",
    "\n",
    "def MTM(start, niter,k):\n",
    "    niter = 0\n",
    "    L = []\n",
    "    L.append(start)\n",
    "    y = np.zeros(k)\n",
    "    y = T(L[niter],y,k)\n",
    "    w_prop = w(L[niter],y)\n",
    "    ix = np.random.choice(k, 1, p=w_prop/sum(w_prop))\n",
    "    x_star = T(y[ix],y,k-1)\n",
    "    x_star.append(L(niter))\n",
    "    w_back = w(x_star, y[ix])\n",
    "    u = stats.uniform.rvs(loc=0, scale=1, size=1)\n",
    "    if u < sum(w_prop)/sum(w_back):\n",
    "        niter += 1\n",
    "        L.append(y[ix])\n",
    "\n",
    "#haven't test yet   "
   ]
  },
  {
   "cell_type": "code",
   "execution_count": 39,
   "metadata": {
    "collapsed": false
   },
   "outputs": [],
   "source": [
    "n_iter = 10000\n",
    "M = 10\n",
    "sigma = 2"
   ]
  },
  {
   "cell_type": "code",
   "execution_count": null,
   "metadata": {
    "collapsed": true
   },
   "outputs": [],
   "source": [
    " Y = np.tile(X,(M,1))+stats.norm.rvs(0,sigma,(M,2))\n",
    "    \n",
    "    # proposal importance probabilities\n",
    "    w_prop = norm_mix(Y)*T(Y,X,sigma)\n",
    "    \n",
    "    # index of the chosen trial point\n",
    "    ix = np.random.choice(M, 1, p=w_prop/sum(w_prop))\n",
    "    \n",
    "    # draw M-1 samples \n",
    "    X_star = np.tile(Y[ix],(M-1,1))+stats.norm.rvs(0,sigma,(M-1,2))\n",
    "    # add X as M th sample\n",
    "    X_star = np.vstack((X_star,X))\n",
    "    \n",
    "    # back importance probabilities\n",
    "    w_back = norm_mix(X_star)*T(X_star,Y[ix][0],sigma)"
   ]
  },
  {
   "cell_type": "code",
   "execution_count": 48,
   "metadata": {
    "collapsed": true
   },
   "outputs": [],
   "source": [
    "def T(x,y,sigma):\n",
    "    return stats.multivariate_normal.pdf(y,x,[[sigma**2,0],[0,sigma**2]])"
   ]
  },
  {
   "cell_type": "code",
   "execution_count": 49,
   "metadata": {
    "collapsed": false,
    "scrolled": true
   },
   "outputs": [],
   "source": [
    "# initial state\n",
    "X = stats.uniform.rvs(loc=-5, scale=10, size=2, random_state=None)\n",
    "\n",
    "# record the number of acceptances\n",
    "accept = 0\n",
    "\n",
    "# store the samples\n",
    "MTMsamples = np.zeros((n_iter,2))\n",
    "\n",
    "# tuning parameter:\n",
    "# sigma: variance of the proposal\n",
    "\n",
    "# MTM sampler\n",
    "for t in range(n_iter):\n",
    "    # proposal: independent N(0,sigma)\n",
    "    Y = np.tile(X,(M,1))+stats.norm.rvs(0,sigma,(M,2))\n",
    "    \n",
    "    # proposal importance probabilities\n",
    "    w_prop = norm_mix(Y)*T(X,Y,sigma)\n",
    "    \n",
    "    # index of the chosen trial point\n",
    "    ix = np.random.choice(M, 1, p=w_prop/sum(w_prop))\n",
    "    \n",
    "    # draw M-1 samples \n",
    "    X_star = np.tile(Y[ix],(M-1,1))+stats.norm.rvs(0,sigma,(M-1,2))\n",
    "    # add X as M th sample\n",
    "    X_star = np.vstack((X_star,X))\n",
    "    \n",
    "    # back importance probabilities\n",
    "    w_back = norm_mix(X_star)*T(Y[ix][0],X_star,sigma)\n",
    "    \n",
    "    # accept or reject\n",
    "    u = stats.uniform.rvs(loc=0, scale=1, size=1)\n",
    "    if u < sum(w_prop)/sum(w_back):\n",
    "        X = Y[ix][0]\n",
    "        accept += 1\n",
    "    MTMsamples[t] = X"
   ]
  },
  {
   "cell_type": "code",
   "execution_count": 41,
   "metadata": {
    "collapsed": false
   },
   "outputs": [
    {
     "data": {
      "text/plain": [
       "6353"
      ]
     },
     "execution_count": 41,
     "metadata": {},
     "output_type": "execute_result"
    }
   ],
   "source": [
    "accept"
   ]
  },
  {
   "cell_type": "code",
   "execution_count": 42,
   "metadata": {
    "collapsed": false,
    "scrolled": true
   },
   "outputs": [
    {
     "data": {
      "text/plain": [
       "<matplotlib.axes._subplots.AxesSubplot at 0x7f5cfc037d68>"
      ]
     },
     "execution_count": 42,
     "metadata": {},
     "output_type": "execute_result"
    },
    {
     "name": "stderr",
     "output_type": "stream",
     "text": [
      "/opt/conda/lib/python3.4/site-packages/matplotlib/collections.py:590: FutureWarning: elementwise comparison failed; returning scalar instead, but in the future will perform elementwise comparison\n",
      "  if self._edgecolors == str('face'):\n"
     ]
    },
    {
     "data": {
      "image/png": "[encoded data removed]",
      "text/plain": [
       "<matplotlib.figure.Figure at 0x7f5cfc0a54a8>"
      ]
     },
     "metadata": {},
     "output_type": "display_data"
    }
   ],
   "source": [
    "sns.kdeplot(MTMsamples[:,0], MTMsamples[:,1], camps='Reds', kind=\"kde\",shade=True,shade_lowest=False)"
   ]
  },
  {
   "cell_type": "markdown",
   "metadata": {},
   "source": [
    "# Also need to compare autocorrelation, acceptance here"
   ]
  },
  {
   "cell_type": "markdown",
   "metadata": {},
   "source": [
    "## Variation 1: Griddy Gibbs Multiple-Try Metropolis"
   ]
  },
  {
   "cell_type": "markdown",
   "metadata": {
    "collapsed": true
   },
   "source": [
    "### Real dataset: Biochemical Oxygen Demand (BOD) originally from Marske (1967)"
   ]
  },
  {
   "cell_type": "code",
   "execution_count": 132,
   "metadata": {
    "collapsed": false
   },
   "outputs": [
    {
     "data": {
      "text/html": [
       "<div>\n",
       "<table border=\"1\" class=\"dataframe\">\n",
       "  <thead>\n",
       "    <tr style=\"text-align: right;\">\n",
       "      <th></th>\n",
       "      <th>Time</th>\n",
       "      <th>demand</th>\n",
       "    </tr>\n",
       "  </thead>\n",
       "  <tbody>\n",
       "    <tr>\n",
       "      <th>1</th>\n",
       "      <td>1</td>\n",
       "      <td>8.3</td>\n",
       "    </tr>\n",
       "    <tr>\n",
       "      <th>2</th>\n",
       "      <td>2</td>\n",
       "      <td>10.3</td>\n",
       "    </tr>\n",
       "    <tr>\n",
       "      <th>3</th>\n",
       "      <td>3</td>\n",
       "      <td>19.0</td>\n",
       "    </tr>\n",
       "    <tr>\n",
       "      <th>4</th>\n",
       "      <td>4</td>\n",
       "      <td>16.0</td>\n",
       "    </tr>\n",
       "    <tr>\n",
       "      <th>5</th>\n",
       "      <td>5</td>\n",
       "      <td>15.6</td>\n",
       "    </tr>\n",
       "  </tbody>\n",
       "</table>\n",
       "</div>"
      ],
      "text/plain": [
       "      Time  demand\n",
       "1        1     8.3\n",
       "2        2    10.3\n",
       "3        3    19.0\n",
       "4        4    16.0\n",
       "5        5    15.6"
      ]
     },
     "execution_count": 132,
     "metadata": {},
     "output_type": "execute_result"
    }
   ],
   "source": [
    "data = pd.read_table('BOD.txt',sep='|')\n",
    "data.head()"
   ]
  },
  {
   "cell_type": "markdown",
   "metadata": {},
   "source": [
    "### Non-linear model was fitted based on the analysis from Bates, D.M. and Watts, D.G. (1988)"
   ]
  },
  {
   "cell_type": "markdown",
   "metadata": {},
   "source": [
    "The non-linear model is given by\n",
    "$$y_i=\\theta_1(1-\\exp(-\\theta_2x_i))+\\varepsilon_i$$\n",
    "where $y$ is the BOD at time $x$ with independent normal errors with constant variance $\\sigma^2$."
   ]
  },
  {
   "cell_type": "code",
   "execution_count": 133,
   "metadata": {
    "collapsed": false
   },
   "outputs": [],
   "source": [
    "x = data.ix[:,0]\n",
    "y = data.ix[:,1]"
   ]
  },
  {
   "cell_type": "code",
   "execution_count": 134,
   "metadata": {
    "collapsed": false
   },
   "outputs": [],
   "source": [
    "def post(theta1, theta2):\n",
    "    n = len(x)\n",
    "    if theta1 > -20 and theta1 < 50 and theta2 > -2 and theta2 < 6:\n",
    "        posterior = sum((y - theta1*(1-np.exp(-theta2*x)))**2)**(-(n/2)+1)\n",
    "    else: posterior = 0\n",
    "    return posterior"
   ]
  },
  {
   "cell_type": "code",
   "execution_count": 136,
   "metadata": {
    "collapsed": false
   },
   "outputs": [
    {
     "name": "stderr",
     "output_type": "stream",
     "text": [
      "/opt/conda/lib/python3.4/site-packages/matplotlib/collections.py:650: FutureWarning: elementwise comparison failed; returning scalar instead, but in the future will perform elementwise comparison\n",
      "  if self._edgecolors_original != str('face'):\n"
     ]
    },
    {
     "data": {
      "text/plain": [
       "<matplotlib.contour.QuadContourSet at 0x7fa1c537bb00>"
      ]
     },
     "execution_count": 136,
     "metadata": {},
     "output_type": "execute_result"
    },
    {
     "name": "stderr",
     "output_type": "stream",
     "text": [
      "/opt/conda/lib/python3.4/site-packages/matplotlib/collections.py:590: FutureWarning: elementwise comparison failed; returning scalar instead, but in the future will perform elementwise comparison\n",
      "  if self._edgecolors == str('face'):\n"
     ]
    },
    {
     "data": {
      "image/png": "[encoded data removed]",
      "text/plain": [
       "<matplotlib.figure.Figure at 0x7fa1c5478828>"
      ]
     },
     "metadata": {},
     "output_type": "display_data"
    }
   ],
   "source": [
    "xx = np.linspace(-20, 20, 100)\n",
    "yy = np.linspace(-20, 20, 100)\n",
    "Z = np.zeros((len(xx), len(yy)))\n",
    "\n",
    "for i in range(len(xx)):\n",
    "    for j in range(len(yy)):\n",
    "        Z[i, j] = 4*xx[i]**2 + yy[j]**2\n",
    "        \n",
    "plt.contour(xx, yy, Z.T)"
   ]
  },
  {
   "cell_type": "code",
   "execution_count": 148,
   "metadata": {
    "collapsed": false
   },
   "outputs": [
    {
     "data": {
      "text/plain": [
       "-9.9159663865546221"
      ]
     },
     "execution_count": 148,
     "metadata": {},
     "output_type": "execute_result"
    }
   ],
   "source": [
    "xaxis = np.linspace(-20.0, 40.0, 120)\n",
    "yaxis = np.linspace(0.0, 6.0, 120)\n",
    "Z = np.zeros((len(xaxis), len(yaxis)))\n",
    "\n",
    "xaxis[20]"
   ]
  },
  {
   "cell_type": "code",
   "execution_count": 151,
   "metadata": {
    "collapsed": false
   },
   "outputs": [],
   "source": [
    "xaxis = np.linspace(-20.0, 40.0, 120)\n",
    "yaxis = np.linspace(-2.0, 4.0, 120)\n",
    "Z = np.zeros((len(xaxis), len(yaxis)))\n",
    "\n",
    "for i in range(len(xaxis)):\n",
    "    for j in range(len(yaxis)):\n",
    "        Z[i, j] = post(xaxis[i],yaxis[j])"
   ]
  },
  {
   "cell_type": "code",
   "execution_count": 179,
   "metadata": {
    "collapsed": false
   },
   "outputs": [
    {
     "name": "stderr",
     "output_type": "stream",
     "text": [
      "/opt/conda/lib/python3.4/site-packages/matplotlib/collections.py:650: FutureWarning: elementwise comparison failed; returning scalar instead, but in the future will perform elementwise comparison\n",
      "  if self._edgecolors_original != str('face'):\n"
     ]
    },
    {
     "data": {
      "text/plain": [
       "<matplotlib.contour.QuadContourSet at 0x7fa1c4db7710>"
      ]
     },
     "execution_count": 179,
     "metadata": {},
     "output_type": "execute_result"
    },
    {
     "name": "stderr",
     "output_type": "stream",
     "text": [
      "/opt/conda/lib/python3.4/site-packages/matplotlib/collections.py:590: FutureWarning: elementwise comparison failed; returning scalar instead, but in the future will perform elementwise comparison\n",
      "  if self._edgecolors == str('face'):\n"
     ]
    },
    {
     "data": {
      "image/png": "[encoded data removed]",
      "text/plain": [
       "<matplotlib.figure.Figure at 0x7fa1c4e5bd30>"
      ]
     },
     "metadata": {},
     "output_type": "display_data"
    }
   ],
   "source": [
    "plt.contour(xaxis, yaxis, Z.T, levels=[0,0.00001,0.00004,0.00008,0.00012,0.00020,0.0005,0.0007])"
   ]
  },
  {
   "cell_type": "code",
   "execution_count": 158,
   "metadata": {
    "collapsed": false
   },
   "outputs": [],
   "source": [
    "n_iter = 10000\n",
    "M = 10\n",
    "# tuning parameter:\n",
    "# sigma1, sigma2: variance of the proposal\n",
    "sigma1 = 30\n",
    "sigma2 = 3"
   ]
  },
  {
   "cell_type": "code",
   "execution_count": 159,
   "metadata": {
    "collapsed": true
   },
   "outputs": [],
   "source": [
    "def T(x,y,sigma):\n",
    "    return stats.norm.pdf(y,x,sigma)"
   ]
  },
  {
   "cell_type": "code",
   "execution_count": 160,
   "metadata": {
    "collapsed": false
   },
   "outputs": [],
   "source": [
    "# MTM-Gibbs sampler\n",
    "def MTMG(n_iter, M, sigma1, sigma2, post):\n",
    "    \n",
    "    # initial state\n",
    "    theta1, theta2 = stats.uniform.rvs(loc=-1, scale=2, size=2, random_state=None)\n",
    "\n",
    "    # record the number of updates for each component\n",
    "    count1 = count2 = 0\n",
    "\n",
    "    # record the number of acceptances\n",
    "    accept1 = accept2 = 0\n",
    "    \n",
    "    # store the samples\n",
    "    MTMGsamples = np.zeros((n_iter,2))\n",
    "\n",
    "    for t in range(n_iter):\n",
    "    \n",
    "        # randomly pick the updating component\n",
    "        index = stats.bernoulli.rvs(0.5,1)\n",
    "    \n",
    "        # update theta1\n",
    "        if index == 1:\n",
    "        \n",
    "            # record number of updating\n",
    "            count1 += 1\n",
    "        \n",
    "            # proposal: N(theta1,sigma1^2)\n",
    "            theta1_prop = np.repeat(theta1,M)+stats.norm.rvs(0,sigma1,M)\n",
    "    \n",
    "            # proposal importance probabilities\n",
    "            w_prop = np.array([post(theta1,theta2) for theta1 in theta1_prop])*T(theta1_prop,theta1,sigma1)\n",
    "     \n",
    "            # index of the chosen trial point\n",
    "            ix = np.random.choice(M, 1, p=w_prop/sum(w_prop))\n",
    "    \n",
    "            # draw M-1 samples \n",
    "            theta1_star = np.repeat(theta1_prop[ix],M-1)+stats.norm.rvs(0,sigma1,M-1)\n",
    "            # add theta1 as M th sample\n",
    "            theta1_star = np.append(theta1_star,theta1)\n",
    "    \n",
    "            # back importance probabilities\n",
    "            w_back = np.array([post(theta1,theta2) for theta1 in theta1_star])*T(theta1_star,theta1_prop[ix],sigma1)\n",
    "    \n",
    "            # accept or reject\n",
    "            u = stats.uniform.rvs(loc=0, scale=1, size=1)\n",
    "            if u < sum(w_prop)/sum(w_back):\n",
    "                theta1 = theta1_prop[ix]\n",
    "                accept1 += 1\n",
    "            \n",
    "        # update theta2\n",
    "        else: \n",
    "        \n",
    "            # record number of updating\n",
    "            count2 += 1\n",
    "        \n",
    "            # proposal: N(theta2,sigma2^2)\n",
    "            theta2_prop = np.repeat(theta2,M)+stats.norm.rvs(0,sigma2,M)\n",
    "    \n",
    "            # proposal importance probabilities\n",
    "            w_prop = np.array([post(theta1,theta2) for theta2 in theta2_prop])*T(theta2_prop,theta2,sigma2)\n",
    "    \n",
    "            # index of the chosen trial point\n",
    "            ix = np.random.choice(M, 1, p=w_prop/sum(w_prop))\n",
    "    \n",
    "            # draw M-1 samples \n",
    "            theta2_star = np.repeat(theta2_prop[ix],M-1)+stats.norm.rvs(0,sigma2,M-1)\n",
    "            # add theta2 as M th sample\n",
    "            theta2_star = np.append(theta2_star,theta2)\n",
    "    \n",
    "            # back importance probabilities\n",
    "            w_back = np.array([post(theta1,theta2) for theta2 in theta2_star])*T(theta2_star,theta2_prop[ix],sigma2)\n",
    "    \n",
    "            # accept or reject\n",
    "            u = stats.uniform.rvs(loc=0, scale=1, size=1)\n",
    "            if u < sum(w_prop)/sum(w_back):\n",
    "                theta2 = theta2_prop[ix]\n",
    "                accept2 += 1\n",
    "            \n",
    "        MTMGsamples[t] = theta1, theta2\n",
    "    \n",
    "    return MTMGsamples, count1, count2, accept1, accept2"
   ]
  },
  {
   "cell_type": "code",
   "execution_count": 161,
   "metadata": {
    "collapsed": false
   },
   "outputs": [],
   "source": [
    "MTMGsamples, count1, count2, accept1, accept2 = MTMG(n_iter=n_iter, M=M, sigma1=sigma1, sigma2=sigma2, post=post)"
   ]
  },
  {
   "cell_type": "code",
   "execution_count": 195,
   "metadata": {
    "collapsed": false
   },
   "outputs": [
    {
     "data": {
      "text/plain": [
       "<matplotlib.axes._subplots.AxesSubplot at 0x7fa1c46ba0f0>"
      ]
     },
     "execution_count": 195,
     "metadata": {},
     "output_type": "execute_result"
    },
    {
     "name": "stderr",
     "output_type": "stream",
     "text": [
      "/opt/conda/lib/python3.4/site-packages/matplotlib/collections.py:590: FutureWarning: elementwise comparison failed; returning scalar instead, but in the future will perform elementwise comparison\n",
      "  if self._edgecolors == str('face'):\n"
     ]
    },
    {
     "data": {
      "image/png": "[encoded data removed]",
      "text/plain": [
       "<matplotlib.figure.Figure at 0x7fa1c46c41d0>"
      ]
     },
     "metadata": {},
     "output_type": "display_data"
    }
   ],
   "source": [
    "sns.kdeplot(MTMGsamples[:,0], MTMGsamples[:,1], camps='Reds', kind=\"kde\",shade=True,shade_lowest=False)"
   ]
  },
  {
   "cell_type": "markdown",
   "metadata": {},
   "source": [
    "## Variation 2: Langevin-within-MTM"
   ]
  },
  {
   "cell_type": "code",
   "execution_count": 4,
   "metadata": {
    "collapsed": false
   },
   "outputs": [],
   "source": [
    "@jit\n",
    "def U(theta):\n",
    "    return (theta+4)*(theta+1)*(theta-1)*(theta-3)/14+0.5"
   ]
  },
  {
   "cell_type": "code",
   "execution_count": 5,
   "metadata": {
    "collapsed": true
   },
   "outputs": [],
   "source": [
    "@jit\n",
    "def grad_U(theta):\n",
    "    return 1/14*(4*theta**3+3*theta**2-26*theta-1)"
   ]
  },
  {
   "cell_type": "code",
   "execution_count": 11,
   "metadata": {
    "collapsed": false
   },
   "outputs": [
    {
     "data": {
      "image/png": "[encoded data removed]",
      "text/plain": [
       "<matplotlib.figure.Figure at 0x7fa1ccf25cf8>"
      ]
     },
     "metadata": {},
     "output_type": "display_data"
    }
   ],
   "source": [
    "x = np.linspace(-6, 6, 100)\n",
    "plt.plot(x, np.exp(-U(x)))\n",
    "pass"
   ]
  },
  {
   "cell_type": "code",
   "execution_count": 20,
   "metadata": {
    "collapsed": true
   },
   "outputs": [],
   "source": [
    "def Langevin(U, grad_U, eps, current_q, M):\n",
    "    \n",
    "    q = current_q\n",
    "    \n",
    "    p = np.random.randn(M)\n",
    "    current_p = p\n",
    "    \n",
    "    p = p - eps * grad_U(q)/2\n",
    "    \n",
    "    q = q + eps * p\n",
    "            \n",
    "    p = p - eps * grad_U(q)/2\n",
    "    \n",
    "    p = -p\n",
    "    \n",
    "    current_U = U(current_q)\n",
    "    current_K = current_p**2/2\n",
    "    proposed_U = U(q)\n",
    "    proposed_K = p**2/2\n",
    "        \n",
    "    w = np.exp(current_U-proposed_U+current_K-proposed_K)\n",
    "        \n",
    "    return q,w"
   ]
  },
  {
   "cell_type": "code",
   "execution_count": 48,
   "metadata": {
    "collapsed": true
   },
   "outputs": [],
   "source": [
    "n_iter = 50000\n",
    "M = 5\n",
    "# tuning parameter:\n",
    "eps=0.1"
   ]
  },
  {
   "cell_type": "code",
   "execution_count": 57,
   "metadata": {
    "collapsed": true
   },
   "outputs": [],
   "source": [
    "# initial state\n",
    "q = stats.uniform.rvs(loc=-6, scale=12, size=1, random_state=None)\n",
    "\n",
    "# record the number of acceptances\n",
    "accept = 0\n",
    "\n",
    "# store the samples\n",
    "MTMsamples = np.zeros(n_iter)\n",
    "\n",
    "# tuning parameter:\n",
    "# sigma: variance of the proposal\n",
    "\n",
    "# MTM sampler\n",
    "for t in range(n_iter):\n",
    "        \n",
    "    # proposal importance probabilities\n",
    "    q_prop, w_prop = Langevin(U, grad_U, eps=eps, current_q=q, M=1)\n",
    "    \n",
    "    u = stats.uniform.rvs(loc=0, scale=1, size=1)\n",
    "    if u < w_prop:\n",
    "        q = q_prop\n",
    "        accept += 1\n",
    "    MTMsamples[t] = q"
   ]
  },
  {
   "cell_type": "code",
   "execution_count": 67,
   "metadata": {
    "collapsed": false
   },
   "outputs": [],
   "source": [
    "# initial state\n",
    "q = stats.uniform.rvs(loc=-6, scale=12, size=1, random_state=None)\n",
    "\n",
    "# record the number of acceptances\n",
    "accept = 0\n",
    "\n",
    "# store the samples\n",
    "MTMsamples = np.zeros(n_iter)\n",
    "\n",
    "# tuning parameter:\n",
    "# sigma: variance of the proposal\n",
    "\n",
    "# MTM sampler\n",
    "for t in range(n_iter):\n",
    "        \n",
    "    # proposal importance probabilities\n",
    "    q_prop, w_prop = Langevin(U, grad_U, eps=eps, current_q=q, M=M)\n",
    "    \n",
    "    # index of the chosen trial point\n",
    "    ix = np.random.choice(M, 1, p=w_prop/sum(w_prop))\n",
    "    \n",
    "    # draw M-1 samples \n",
    "    q_star, w_back = Langevin(U, grad_U, eps=eps, current_q=q_prop[ix], M=M-1)\n",
    "    \n",
    "    # add X as M th sample\n",
    "    q_star = np.append(q_star,q)\n",
    "    \n",
    "    # back importance probabilities\n",
    "    p = (q-q_prop[ix])/eps\n",
    "#     (p+eps*grad_U(q_prop[ix]))**2/2\n",
    "# -(p-eps * grad_U(q)/2)**2/2\n",
    "\n",
    "    w_back = np.append(w_back,np.exp(U(q_prop[ix])+(p+eps*grad_U(q_prop[ix]))**2/2-U(q)-(p-eps * grad_U(q)/2)**2/2))\n",
    "    \n",
    "    # accept or reject\n",
    "    u = stats.uniform.rvs(loc=0, scale=1, size=1)\n",
    "    if u < sum(w_prop)/sum(w_back):\n",
    "        q = q_prop[ix]\n",
    "        accept += 1\n",
    "    MTMsamples[t] = q"
   ]
  },
  {
   "cell_type": "code",
   "execution_count": 44,
   "metadata": {
    "collapsed": false
   },
   "outputs": [
    {
     "data": {
      "text/plain": [
       "(array([ 4.30480327,  4.16442865,  4.02200488, ...,  1.76202681,\n",
       "         1.71432992,  1.57445896]), 9892)"
      ]
     },
     "execution_count": 44,
     "metadata": {},
     "output_type": "execute_result"
    }
   ],
   "source": [
    "MTMsamples,accept"
   ]
  },
  {
   "cell_type": "code",
   "execution_count": 68,
   "metadata": {
    "collapsed": false,
    "scrolled": true
   },
   "outputs": [
    {
     "data": {
      "text/plain": [
       "<matplotlib.axes._subplots.AxesSubplot at 0x7fa1c5feeda0>"
      ]
     },
     "execution_count": 68,
     "metadata": {},
     "output_type": "execute_result"
    },
    {
     "data": {
      "image/png": "[encoded data removed]",
      "text/plain": [
       "<matplotlib.figure.Figure at 0x7fa1c5fee6d8>"
      ]
     },
     "metadata": {},
     "output_type": "display_data"
    }
   ],
   "source": [
    "sns.distplot(MTMsamples)"
   ]
  },
  {
   "cell_type": "markdown",
   "metadata": {},
   "source": [
    "# Experimental Results and Comparisons"
   ]
  },
  {
   "cell_type": "code",
   "execution_count": null,
   "metadata": {
    "collapsed": true
   },
   "outputs": [],
   "source": []
  },
  {
   "cell_type": "code",
   "execution_count": null,
   "metadata": {
    "collapsed": true
   },
   "outputs": [],
   "source": []
  },
  {
   "cell_type": "markdown",
   "metadata": {},
   "source": [
    "# Profiling and Optimization"
   ]
  },
  {
   "cell_type": "markdown",
   "metadata": {},
   "source": [
    "In the analysis above, we present three algorithms belonging to the MTM class. Considering the maturity and convexity of each algorithm, we choose to explore the MTM-gibbs to a further extent."
   ]
  },
  {
   "cell_type": "code",
   "execution_count": null,
   "metadata": {
    "collapsed": true
   },
   "outputs": [],
   "source": [
    "# I just thought about working more on MTM_gibbs. but be free choose \n",
    "# other algorithm to work on with. \n"
   ]
  },
  {
   "cell_type": "code",
   "execution_count": 69,
   "metadata": {
    "collapsed": false
   },
   "outputs": [
    {
     "ename": "NameError",
     "evalue": "name 'MTMG' is not defined",
     "output_type": "error",
     "traceback": [
      "\u001b[1;31m---------------------------------------------------------------------------\u001b[0m",
      "\u001b[1;31mNameError\u001b[0m                                 Traceback (most recent call last)",
      "\u001b[1;32m<ipython-input-69-530e965d6675>\u001b[0m in \u001b[0;36m<module>\u001b[1;34m()\u001b[0m\n\u001b[1;32m----> 1\u001b[1;33m \u001b[0mget_ipython\u001b[0m\u001b[1;33m(\u001b[0m\u001b[1;33m)\u001b[0m\u001b[1;33m.\u001b[0m\u001b[0mmagic\u001b[0m\u001b[1;33m(\u001b[0m\u001b[1;34m'prun MTMG(n_iter=n_iter, M=M, sigma1=sigma1, sigma2=sigma2, post=post)'\u001b[0m\u001b[1;33m)\u001b[0m\u001b[1;33m\u001b[0m\u001b[0m\n\u001b[0m",
      "\u001b[1;32m/opt/conda/lib/python3.4/site-packages/IPython/core/interactiveshell.py\u001b[0m in \u001b[0;36mmagic\u001b[1;34m(self, arg_s)\u001b[0m\n\u001b[0;32m   2161\u001b[0m         \u001b[0mmagic_name\u001b[0m\u001b[1;33m,\u001b[0m \u001b[0m_\u001b[0m\u001b[1;33m,\u001b[0m \u001b[0mmagic_arg_s\u001b[0m \u001b[1;33m=\u001b[0m \u001b[0marg_s\u001b[0m\u001b[1;33m.\u001b[0m\u001b[0mpartition\u001b[0m\u001b[1;33m(\u001b[0m\u001b[1;34m' '\u001b[0m\u001b[1;33m)\u001b[0m\u001b[1;33m\u001b[0m\u001b[0m\n\u001b[0;32m   2162\u001b[0m         \u001b[0mmagic_name\u001b[0m \u001b[1;33m=\u001b[0m \u001b[0mmagic_name\u001b[0m\u001b[1;33m.\u001b[0m\u001b[0mlstrip\u001b[0m\u001b[1;33m(\u001b[0m\u001b[0mprefilter\u001b[0m\u001b[1;33m.\u001b[0m\u001b[0mESC_MAGIC\u001b[0m\u001b[1;33m)\u001b[0m\u001b[1;33m\u001b[0m\u001b[0m\n\u001b[1;32m-> 2163\u001b[1;33m         \u001b[1;32mreturn\u001b[0m \u001b[0mself\u001b[0m\u001b[1;33m.\u001b[0m\u001b[0mrun_line_magic\u001b[0m\u001b[1;33m(\u001b[0m\u001b[0mmagic_name\u001b[0m\u001b[1;33m,\u001b[0m \u001b[0mmagic_arg_s\u001b[0m\u001b[1;33m)\u001b[0m\u001b[1;33m\u001b[0m\u001b[0m\n\u001b[0m\u001b[0;32m   2164\u001b[0m \u001b[1;33m\u001b[0m\u001b[0m\n\u001b[0;32m   2165\u001b[0m     \u001b[1;31m#-------------------------------------------------------------------------\u001b[0m\u001b[1;33m\u001b[0m\u001b[1;33m\u001b[0m\u001b[0m\n",
      "\u001b[1;32m/opt/conda/lib/python3.4/site-packages/IPython/core/interactiveshell.py\u001b[0m in \u001b[0;36mrun_line_magic\u001b[1;34m(self, magic_name, line)\u001b[0m\n\u001b[0;32m   2082\u001b[0m                 \u001b[0mkwargs\u001b[0m\u001b[1;33m[\u001b[0m\u001b[1;34m'local_ns'\u001b[0m\u001b[1;33m]\u001b[0m \u001b[1;33m=\u001b[0m \u001b[0msys\u001b[0m\u001b[1;33m.\u001b[0m\u001b[0m_getframe\u001b[0m\u001b[1;33m(\u001b[0m\u001b[0mstack_depth\u001b[0m\u001b[1;33m)\u001b[0m\u001b[1;33m.\u001b[0m\u001b[0mf_locals\u001b[0m\u001b[1;33m\u001b[0m\u001b[0m\n\u001b[0;32m   2083\u001b[0m             \u001b[1;32mwith\u001b[0m \u001b[0mself\u001b[0m\u001b[1;33m.\u001b[0m\u001b[0mbuiltin_trap\u001b[0m\u001b[1;33m:\u001b[0m\u001b[1;33m\u001b[0m\u001b[0m\n\u001b[1;32m-> 2084\u001b[1;33m                 \u001b[0mresult\u001b[0m \u001b[1;33m=\u001b[0m \u001b[0mfn\u001b[0m\u001b[1;33m(\u001b[0m\u001b[1;33m*\u001b[0m\u001b[0margs\u001b[0m\u001b[1;33m,\u001b[0m\u001b[1;33m**\u001b[0m\u001b[0mkwargs\u001b[0m\u001b[1;33m)\u001b[0m\u001b[1;33m\u001b[0m\u001b[0m\n\u001b[0m\u001b[0;32m   2085\u001b[0m             \u001b[1;32mreturn\u001b[0m \u001b[0mresult\u001b[0m\u001b[1;33m\u001b[0m\u001b[0m\n\u001b[0;32m   2086\u001b[0m \u001b[1;33m\u001b[0m\u001b[0m\n",
      "\u001b[1;32m<decorator-gen-54>\u001b[0m in \u001b[0;36mprun\u001b[1;34m(self, parameter_s, cell)\u001b[0m\n",
      "\u001b[1;32m/opt/conda/lib/python3.4/site-packages/IPython/core/magic.py\u001b[0m in \u001b[0;36m<lambda>\u001b[1;34m(f, *a, **k)\u001b[0m\n\u001b[0;32m    191\u001b[0m     \u001b[1;31m# but it's overkill for just that one bit of state.\u001b[0m\u001b[1;33m\u001b[0m\u001b[1;33m\u001b[0m\u001b[0m\n\u001b[0;32m    192\u001b[0m     \u001b[1;32mdef\u001b[0m \u001b[0mmagic_deco\u001b[0m\u001b[1;33m(\u001b[0m\u001b[0marg\u001b[0m\u001b[1;33m)\u001b[0m\u001b[1;33m:\u001b[0m\u001b[1;33m\u001b[0m\u001b[0m\n\u001b[1;32m--> 193\u001b[1;33m         \u001b[0mcall\u001b[0m \u001b[1;33m=\u001b[0m \u001b[1;32mlambda\u001b[0m \u001b[0mf\u001b[0m\u001b[1;33m,\u001b[0m \u001b[1;33m*\u001b[0m\u001b[0ma\u001b[0m\u001b[1;33m,\u001b[0m \u001b[1;33m**\u001b[0m\u001b[0mk\u001b[0m\u001b[1;33m:\u001b[0m \u001b[0mf\u001b[0m\u001b[1;33m(\u001b[0m\u001b[1;33m*\u001b[0m\u001b[0ma\u001b[0m\u001b[1;33m,\u001b[0m \u001b[1;33m**\u001b[0m\u001b[0mk\u001b[0m\u001b[1;33m)\u001b[0m\u001b[1;33m\u001b[0m\u001b[0m\n\u001b[0m\u001b[0;32m    194\u001b[0m \u001b[1;33m\u001b[0m\u001b[0m\n\u001b[0;32m    195\u001b[0m         \u001b[1;32mif\u001b[0m \u001b[0mcallable\u001b[0m\u001b[1;33m(\u001b[0m\u001b[0marg\u001b[0m\u001b[1;33m)\u001b[0m\u001b[1;33m:\u001b[0m\u001b[1;33m\u001b[0m\u001b[0m\n",
      "\u001b[1;32m/opt/conda/lib/python3.4/site-packages/IPython/core/magics/execution.py\u001b[0m in \u001b[0;36mprun\u001b[1;34m(self, parameter_s, cell)\u001b[0m\n\u001b[0;32m    277\u001b[0m             \u001b[0marg_str\u001b[0m \u001b[1;33m+=\u001b[0m \u001b[1;34m'\\n'\u001b[0m \u001b[1;33m+\u001b[0m \u001b[0mcell\u001b[0m\u001b[1;33m\u001b[0m\u001b[0m\n\u001b[0;32m    278\u001b[0m         \u001b[0marg_str\u001b[0m \u001b[1;33m=\u001b[0m \u001b[0mself\u001b[0m\u001b[1;33m.\u001b[0m\u001b[0mshell\u001b[0m\u001b[1;33m.\u001b[0m\u001b[0minput_splitter\u001b[0m\u001b[1;33m.\u001b[0m\u001b[0mtransform_cell\u001b[0m\u001b[1;33m(\u001b[0m\u001b[0marg_str\u001b[0m\u001b[1;33m)\u001b[0m\u001b[1;33m\u001b[0m\u001b[0m\n\u001b[1;32m--> 279\u001b[1;33m         \u001b[1;32mreturn\u001b[0m \u001b[0mself\u001b[0m\u001b[1;33m.\u001b[0m\u001b[0m_run_with_profiler\u001b[0m\u001b[1;33m(\u001b[0m\u001b[0marg_str\u001b[0m\u001b[1;33m,\u001b[0m \u001b[0mopts\u001b[0m\u001b[1;33m,\u001b[0m \u001b[0mself\u001b[0m\u001b[1;33m.\u001b[0m\u001b[0mshell\u001b[0m\u001b[1;33m.\u001b[0m\u001b[0muser_ns\u001b[0m\u001b[1;33m)\u001b[0m\u001b[1;33m\u001b[0m\u001b[0m\n\u001b[0m\u001b[0;32m    280\u001b[0m \u001b[1;33m\u001b[0m\u001b[0m\n\u001b[0;32m    281\u001b[0m     \u001b[1;32mdef\u001b[0m \u001b[0m_run_with_profiler\u001b[0m\u001b[1;33m(\u001b[0m\u001b[0mself\u001b[0m\u001b[1;33m,\u001b[0m \u001b[0mcode\u001b[0m\u001b[1;33m,\u001b[0m \u001b[0mopts\u001b[0m\u001b[1;33m,\u001b[0m \u001b[0mnamespace\u001b[0m\u001b[1;33m)\u001b[0m\u001b[1;33m:\u001b[0m\u001b[1;33m\u001b[0m\u001b[0m\n",
      "\u001b[1;32m/opt/conda/lib/python3.4/site-packages/IPython/core/magics/execution.py\u001b[0m in \u001b[0;36m_run_with_profiler\u001b[1;34m(self, code, opts, namespace)\u001b[0m\n\u001b[0;32m    299\u001b[0m         \u001b[0mprof\u001b[0m \u001b[1;33m=\u001b[0m \u001b[0mprofile\u001b[0m\u001b[1;33m.\u001b[0m\u001b[0mProfile\u001b[0m\u001b[1;33m(\u001b[0m\u001b[1;33m)\u001b[0m\u001b[1;33m\u001b[0m\u001b[0m\n\u001b[0;32m    300\u001b[0m         \u001b[1;32mtry\u001b[0m\u001b[1;33m:\u001b[0m\u001b[1;33m\u001b[0m\u001b[0m\n\u001b[1;32m--> 301\u001b[1;33m             \u001b[0mprof\u001b[0m \u001b[1;33m=\u001b[0m \u001b[0mprof\u001b[0m\u001b[1;33m.\u001b[0m\u001b[0mrunctx\u001b[0m\u001b[1;33m(\u001b[0m\u001b[0mcode\u001b[0m\u001b[1;33m,\u001b[0m \u001b[0mnamespace\u001b[0m\u001b[1;33m,\u001b[0m \u001b[0mnamespace\u001b[0m\u001b[1;33m)\u001b[0m\u001b[1;33m\u001b[0m\u001b[0m\n\u001b[0m\u001b[0;32m    302\u001b[0m             \u001b[0msys_exit\u001b[0m \u001b[1;33m=\u001b[0m \u001b[1;34m''\u001b[0m\u001b[1;33m\u001b[0m\u001b[0m\n\u001b[0;32m    303\u001b[0m         \u001b[1;32mexcept\u001b[0m \u001b[0mSystemExit\u001b[0m\u001b[1;33m:\u001b[0m\u001b[1;33m\u001b[0m\u001b[0m\n",
      "\u001b[1;32m/opt/conda/lib/python3.4/cProfile.py\u001b[0m in \u001b[0;36mrunctx\u001b[1;34m(self, cmd, globals, locals)\u001b[0m\n\u001b[0;32m     98\u001b[0m         \u001b[0mself\u001b[0m\u001b[1;33m.\u001b[0m\u001b[0menable\u001b[0m\u001b[1;33m(\u001b[0m\u001b[1;33m)\u001b[0m\u001b[1;33m\u001b[0m\u001b[0m\n\u001b[0;32m     99\u001b[0m         \u001b[1;32mtry\u001b[0m\u001b[1;33m:\u001b[0m\u001b[1;33m\u001b[0m\u001b[0m\n\u001b[1;32m--> 100\u001b[1;33m             \u001b[0mexec\u001b[0m\u001b[1;33m(\u001b[0m\u001b[0mcmd\u001b[0m\u001b[1;33m,\u001b[0m \u001b[0mglobals\u001b[0m\u001b[1;33m,\u001b[0m \u001b[0mlocals\u001b[0m\u001b[1;33m)\u001b[0m\u001b[1;33m\u001b[0m\u001b[0m\n\u001b[0m\u001b[0;32m    101\u001b[0m         \u001b[1;32mfinally\u001b[0m\u001b[1;33m:\u001b[0m\u001b[1;33m\u001b[0m\u001b[0m\n\u001b[0;32m    102\u001b[0m             \u001b[0mself\u001b[0m\u001b[1;33m.\u001b[0m\u001b[0mdisable\u001b[0m\u001b[1;33m(\u001b[0m\u001b[1;33m)\u001b[0m\u001b[1;33m\u001b[0m\u001b[0m\n",
      "\u001b[1;32m<string>\u001b[0m in \u001b[0;36m<module>\u001b[1;34m()\u001b[0m\n",
      "\u001b[1;31mNameError\u001b[0m: name 'MTMG' is not defined"
     ]
    }
   ],
   "source": [
    "%prun MTMG(n_iter=n_iter, M=M, sigma1=sigma1, sigma2=sigma2, post=post)"
   ]
  },
  {
   "cell_type": "markdown",
   "metadata": {},
   "source": [
    "![cprofile](cprofile.png)"
   ]
  },
  {
   "cell_type": "markdown",
   "metadata": {},
   "source": [
    "The basic code was written in common packages such as numpy and scipy. We profiled the code using $cProfile$ to figure out bottlenecks. The result is shown as above. As can been seen, the part that takes most of the time is the posterior function. "
   ]
  },
  {
   "cell_type": "code",
   "execution_count": null,
   "metadata": {
    "collapsed": true
   },
   "outputs": [],
   "source": []
  },
  {
   "cell_type": "markdown",
   "metadata": {},
   "source": [
    "# Conclusion"
   ]
  },
  {
   "cell_type": "code",
   "execution_count": null,
   "metadata": {
    "collapsed": true
   },
   "outputs": [],
   "source": []
  }
 ],
 "metadata": {
  "kernelspec": {
   "display_name": "Python 3",
   "language": "python",
   "name": "python3"
  },
  "language_info": {
   "codemirror_mode": {
    "name": "ipython",
    "version": 3
   },
   "file_extension": ".py",
   "mimetype": "text/x-python",
   "name": "python",
   "nbconvert_exporter": "python",
   "pygments_lexer": "ipython3",
   "version": "3.4.4"
  }
 },
 "nbformat": 4,
 "nbformat_minor": 0
}
