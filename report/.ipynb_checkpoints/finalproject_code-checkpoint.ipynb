{
 "cells": [
  {
   "cell_type": "markdown",
   "metadata": {
    "collapsed": true
   },
   "source": [
    "# Multiple-try Metropolis"
   ]
  },
  {
   "cell_type": "markdown",
   "metadata": {},
   "source": [
    "### Toy example"
   ]
  },
  {
   "cell_type": "code",
   "execution_count": 4,
   "metadata": {
    "collapsed": true
   },
   "outputs": [],
   "source": [
    "import numba\n",
    "from numba import jit\n",
    "import numpy as np\n",
    "import scipy.stats as stats\n",
    "import seaborn as sns\n",
    "import pandas as pd\n",
    "import matplotlib.pyplot as plt\n",
    "% matplotlib inline"
   ]
  },
  {
   "cell_type": "markdown",
   "metadata": {},
   "source": [
    "#### Sampling from a two-dimensional mixture Gaussian Distribution $\\pi(x)$\n",
    "$$\n",
    "\\pi(x)=\\frac{1}{3}\\mathbf{N}_2(\\mathbf{0},\\mathbf{I}_2)+\\frac{1}{3}\\mathbf{N}_2\\biggl\\{\\left(\\begin{array}{c}\n",
    "-6 \\\\\n",
    "-6\n",
    "\\end{array}\n",
    "\\right),\\left(\\begin{array}{cc}\n",
    "1 & 0.9 \\\\\n",
    "0.9 & 1\n",
    "\\end{array}\n",
    "\\right)\n",
    "\\biggr\\}+\\frac{1}{3}\\mathbf{N}_2\\biggl\\{\\left(\\begin{array}{c}\n",
    "4 \\\\\n",
    "4\n",
    "\\end{array}\n",
    "\\right),\\left(\\begin{array}{cc}\n",
    "1 & -0.9 \\\\\n",
    "-0.9 & 1\n",
    "\\end{array}\n",
    "\\right)\n",
    "\\biggr\\}$$"
   ]
  },
  {
   "cell_type": "code",
   "execution_count": 3,
   "metadata": {
    "collapsed": true
   },
   "outputs": [],
   "source": [
    "def norm_mix(x):\n",
    "    target = stats.multivariate_normal.pdf(x,[0,0],[[1,0],[0,1]])+stats.multivariate_normal.pdf(x,[-6,-6],[[1,0.9],[0.9,1]])+stats.multivariate_normal.pdf(x,[4,4],[[1,-0.9],[-0.9,1]])\n",
    "    return target"
   ]
  },
  {
   "cell_type": "markdown",
   "metadata": {},
   "source": [
    "# Need a contour plot for mixture Gaussian here"
   ]
  },
  {
   "cell_type": "markdown",
   "metadata": {},
   "source": [
    "#### Method 1: Traditional Metropolis-Hastings sampler"
   ]
  },
  {
   "cell_type": "code",
   "execution_count": 4,
   "metadata": {
    "collapsed": false
   },
   "outputs": [],
   "source": [
    "n_iter = 50000\n",
    "sigma = 1.5\n",
    "\n",
    "# initial state\n",
    "X = stats.uniform.rvs(loc=-5, scale=10, size=2, random_state=None)\n",
    "\n",
    "# record the number of acceptances\n",
    "accept = 0\n",
    "\n",
    "# store the samples\n",
    "MHsamples = np.zeros((n_iter,2))\n",
    "\n",
    "# tuning parameter:\n",
    "# sigma: variance of proposal\n",
    "\n",
    "# MH sampler\n",
    "for t in range(n_iter):\n",
    "    # proposal: independent N(0,sigma)\n",
    "    Y = X+stats.norm.rvs(0,sigma,2)\n",
    "       \n",
    "    # accept or reject\n",
    "    u = stats.uniform.rvs(loc=0, scale=1, size=1)\n",
    "    if u < norm_mix(Y)/norm_mix(X):\n",
    "        X = Y\n",
    "        accept += 1\n",
    "    MHsamples[t] = X"
   ]
  },
  {
   "cell_type": "code",
   "execution_count": 5,
   "metadata": {
    "collapsed": false
   },
   "outputs": [
    {
     "data": {
      "text/plain": [
       "<matplotlib.axes._subplots.AxesSubplot at 0x7f4232872d68>"
      ]
     },
     "execution_count": 5,
     "metadata": {},
     "output_type": "execute_result"
    },
    {
     "name": "stderr",
     "output_type": "stream",
     "text": [
      "/opt/conda/lib/python3.4/site-packages/matplotlib/collections.py:590: FutureWarning: elementwise comparison failed; returning scalar instead, but in the future will perform elementwise comparison\n",
      "  if self._edgecolors == str('face'):\n"
     ]
    },
    {
     "data": {
      "image/png": "[encoded data removed]",
      "text/plain": [
       "<matplotlib.figure.Figure at 0x7f4232872748>"
      ]
     },
     "metadata": {},
     "output_type": "display_data"
    }
   ],
   "source": [
    "sns.kdeplot(MHsamples[:,0], MHsamples[:,1], camps='Reds', kind=\"kde\",shade=True,shade_lowest=False)"
   ]
  },
  {
   "cell_type": "markdown",
   "metadata": {},
   "source": [
    "#### Method 2: MTM sampler"
   ]
  },
  {
   "cell_type": "code",
   "execution_count": 132,
   "metadata": {
    "collapsed": false
   },
   "outputs": [],
   "source": [
    "n_iter = 10000\n",
    "M = 10\n",
    "sigma = 1.5"
   ]
  },
  {
   "cell_type": "code",
   "execution_count": 133,
   "metadata": {
    "collapsed": false,
    "scrolled": true
   },
   "outputs": [],
   "source": [
    "# initial state\n",
    "X = stats.uniform.rvs(loc=-5, scale=10, size=2, random_state=None)\n",
    "\n",
    "# record the number of acceptances\n",
    "accept = 0\n",
    "\n",
    "# store the samples\n",
    "MTMsamples = np.zeros((n_iter,2))\n",
    "\n",
    "# tuning parameter:\n",
    "# sigma: variance of the proposal\n",
    "\n",
    "# MTM sampler\n",
    "for t in range(n_iter):\n",
    "    # proposal: independent N(0,sigma)\n",
    "    Y = np.tile(X,(M,1))+stats.norm.rvs(0,sigma,(M,2))\n",
    "    \n",
    "    # proposal importance probabilities\n",
    "    w_prop = norm_mix(Y)\n",
    "    \n",
    "    # index of the chosen trial point\n",
    "    ix = np.random.choice(M, 1, p=w_prop/sum(w_prop))\n",
    "    \n",
    "    # draw M-1 samples \n",
    "    X_star = np.tile(Y[ix],(M-1,1))+stats.norm.rvs(0,sigma,(M-1,2))\n",
    "    # add X as M th sample\n",
    "    X_star = np.vstack((X_star,X))\n",
    "    \n",
    "    # back importance probabilities\n",
    "    w_back = norm_mix(X_star)\n",
    "    \n",
    "    # accept or reject\n",
    "    u = stats.uniform.rvs(loc=0, scale=1, size=1)\n",
    "    if u < sum(w_prop)/sum(w_back):\n",
    "        X = Y[ix]\n",
    "        accept += 1\n",
    "    MTMsamples[t] = X"
   ]
  },
  {
   "cell_type": "code",
   "execution_count": 134,
   "metadata": {
    "collapsed": false,
    "scrolled": true
   },
   "outputs": [
    {
     "data": {
      "text/plain": [
       "<matplotlib.axes._subplots.AxesSubplot at 0x7f9d6f924ac8>"
      ]
     },
     "execution_count": 134,
     "metadata": {},
     "output_type": "execute_result"
    },
    {
     "name": "stderr",
     "output_type": "stream",
     "text": [
      "/opt/conda/lib/python3.4/site-packages/matplotlib/collections.py:590: FutureWarning: elementwise comparison failed; returning scalar instead, but in the future will perform elementwise comparison\n",
      "  if self._edgecolors == str('face'):\n"
     ]
    },
    {
     "data": {
      "image/png": "[encoded data removed]",
      "text/plain": [
       "<matplotlib.figure.Figure at 0x7f9d6faa62b0>"
      ]
     },
     "metadata": {},
     "output_type": "display_data"
    }
   ],
   "source": [
    "sns.kdeplot(MTMsamples[:,0], MTMsamples[:,1], camps='Reds', kind=\"kde\",shade=True,shade_lowest=False)"
   ]
  },
  {
   "cell_type": "markdown",
   "metadata": {},
   "source": [
    "# Also need to compare autocorrelation, acceptance here"
   ]
  },
  {
   "cell_type": "markdown",
   "metadata": {},
   "source": [
    "## Variation 1: Griddy Gibbs Multiple-Try Metropolis"
   ]
  },
  {
   "cell_type": "markdown",
   "metadata": {
    "collapsed": true
   },
   "source": [
    "### Real dataset: Biochemical Oxygen Demand (BOD) originally from Marske (1967)"
   ]
  },
  {
   "cell_type": "code",
   "execution_count": 5,
   "metadata": {
    "collapsed": false
   },
   "outputs": [
    {
     "data": {
      "text/html": [
       "<div>\n",
       "<table border=\"1\" class=\"dataframe\">\n",
       "  <thead>\n",
       "    <tr style=\"text-align: right;\">\n",
       "      <th></th>\n",
       "      <th>Time</th>\n",
       "      <th>demand</th>\n",
       "    </tr>\n",
       "  </thead>\n",
       "  <tbody>\n",
       "    <tr>\n",
       "      <th>1</th>\n",
       "      <td>1</td>\n",
       "      <td>8.3</td>\n",
       "    </tr>\n",
       "    <tr>\n",
       "      <th>2</th>\n",
       "      <td>2</td>\n",
       "      <td>10.3</td>\n",
       "    </tr>\n",
       "    <tr>\n",
       "      <th>3</th>\n",
       "      <td>3</td>\n",
       "      <td>19.0</td>\n",
       "    </tr>\n",
       "    <tr>\n",
       "      <th>4</th>\n",
       "      <td>4</td>\n",
       "      <td>16.0</td>\n",
       "    </tr>\n",
       "    <tr>\n",
       "      <th>5</th>\n",
       "      <td>5</td>\n",
       "      <td>15.6</td>\n",
       "    </tr>\n",
       "  </tbody>\n",
       "</table>\n",
       "</div>"
      ],
      "text/plain": [
       "      Time  demand\n",
       "1        1     8.3\n",
       "2        2    10.3\n",
       "3        3    19.0\n",
       "4        4    16.0\n",
       "5        5    15.6"
      ]
     },
     "execution_count": 5,
     "metadata": {},
     "output_type": "execute_result"
    }
   ],
   "source": [
    "data = pd.read_table('BOD.txt',sep='|')\n",
    "data.head()"
   ]
  },
  {
   "cell_type": "markdown",
   "metadata": {},
   "source": [
    "### Non-linear model was fitted based on the analysis from Bates, D.M. and Watts, D.G. (1988)"
   ]
  },
  {
   "cell_type": "markdown",
   "metadata": {},
   "source": [
    "The non-linear model is given by\n",
    "$$y_i=\\theta_1(1-\\exp(-\\theta_2x_i))+\\varepsilon_i$$\n",
    "where $y$ is the BOD at time $x$ with independent normal errors with constant variance $\\sigma^2$."
   ]
  },
  {
   "cell_type": "code",
   "execution_count": 34,
   "metadata": {
    "collapsed": false
   },
   "outputs": [],
   "source": [
    "x = data['   Time']\n",
    "y = data['demand']"
   ]
  },
  {
   "cell_type": "code",
   "execution_count": 35,
   "metadata": {
    "collapsed": false
   },
   "outputs": [],
   "source": [
    "@jit\n",
    "def post(theta1, theta2):\n",
    "    n = len(x)\n",
    "    if theta1 > -20 and theta1 < 50 and theta2 > -2 and theta2 < 6:\n",
    "        posterior = sum((y - theta1*(1-np.exp(-theta2*x)))**2)**(-(n/2)+1)\n",
    "    else: posterior = 0\n",
    "    return posterior"
   ]
  },
  {
   "cell_type": "code",
   "execution_count": 44,
   "metadata": {
    "collapsed": false
   },
   "outputs": [],
   "source": [
    "xaxis = np.arange(-20.0, 40.0, 0.5)\n",
    "yaxis = np.arange(-2.0, 4.0, 0.05)\n",
    "Z = np.reshape(np.array([post(a,b) for a in xaxis for b in yaxis]),newshape=[120,120])"
   ]
  },
  {
   "cell_type": "code",
   "execution_count": 45,
   "metadata": {
    "collapsed": false
   },
   "outputs": [
    {
     "name": "stderr",
     "output_type": "stream",
     "text": [
      "/opt/conda/lib/python3.4/site-packages/matplotlib/collections.py:650: FutureWarning: elementwise comparison failed; returning scalar instead, but in the future will perform elementwise comparison\n",
      "  if self._edgecolors_original != str('face'):\n"
     ]
    },
    {
     "data": {
      "text/plain": [
       "<matplotlib.contour.QuadContourSet at 0x7f3a496595f8>"
      ]
     },
     "execution_count": 45,
     "metadata": {},
     "output_type": "execute_result"
    },
    {
     "name": "stderr",
     "output_type": "stream",
     "text": [
      "/opt/conda/lib/python3.4/site-packages/matplotlib/collections.py:590: FutureWarning: elementwise comparison failed; returning scalar instead, but in the future will perform elementwise comparison\n",
      "  if self._edgecolors == str('face'):\n"
     ]
    },
    {
     "data": {
      "image/png": "[encoded data removed]",
      "text/plain": [
       "<matplotlib.figure.Figure at 0x7f3a4961ab00>"
      ]
     },
     "metadata": {},
     "output_type": "display_data"
    }
   ],
   "source": [
    "X, Y = np.meshgrid(xaxis, yaxis)\n",
    "plt.figure()\n",
    "plt.contour(X, Y, Z)"
   ]
  },
  {
   "cell_type": "code",
   "execution_count": 46,
   "metadata": {
    "collapsed": false
   },
   "outputs": [],
   "source": [
    "n_iter = 10000\n",
    "M = 10\n",
    "# tuning parameter:\n",
    "# sigma1, sigma2: variance of the proposal\n",
    "sigma1 = 30\n",
    "sigma2 = 3"
   ]
  },
  {
   "cell_type": "code",
   "execution_count": 11,
   "metadata": {
    "collapsed": false
   },
   "outputs": [],
   "source": [
    "# MTM-Gibbs sampler\n",
    "def MTMG(n_iter, M, sigma1, sigma2, post):\n",
    "    \n",
    "    # initial state\n",
    "    theta1, theta2 = stats.uniform.rvs(loc=-1, scale=1, size=2, random_state=None)\n",
    "\n",
    "    # record the number of updates for each component\n",
    "    count1 = count2 = 0\n",
    "\n",
    "    # record the number of acceptances\n",
    "    accept1 = accept2 = 0\n",
    "    \n",
    "    # store the samples\n",
    "    MTMGsamples = np.zeros((n_iter,2))\n",
    "\n",
    "    for t in range(n_iter):\n",
    "    \n",
    "        # randomly pick the updating component\n",
    "        index = stats.bernoulli.rvs(0.5,1)\n",
    "    \n",
    "        # update theta1\n",
    "        if index == 1:\n",
    "        \n",
    "            # record number of updating\n",
    "            count1 += 1\n",
    "        \n",
    "            # proposal: independent N(0,sigma1^2)\n",
    "            theta1_prop = np.repeat(theta1,M)+stats.norm.rvs(0,sigma1,M)\n",
    "    \n",
    "            # proposal importance probabilities\n",
    "            w_prop = np.array([post(theta1,theta2) for theta1 in theta1_prop])\n",
    "     \n",
    "            # index of the chosen trial point\n",
    "            ix = np.random.choice(M, 1, p=w_prop/sum(w_prop))\n",
    "    \n",
    "            # draw M-1 samples \n",
    "            theta1_star = np.repeat(theta1_prop[ix],M-1)+stats.norm.rvs(0,sigma1,M-1)\n",
    "            # add theta1 as M th sample\n",
    "            theta1_star = np.append(theta1_star,theta1)\n",
    "    \n",
    "            # back importance probabilities\n",
    "            w_back = np.array([post(theta1,theta2) for theta1 in theta1_star])\n",
    "    \n",
    "            # accept or reject\n",
    "            u = stats.uniform.rvs(loc=0, scale=1, size=1)\n",
    "            if u < sum(w_prop)/sum(w_back):\n",
    "                theta1 = theta1_prop[ix]\n",
    "                accept1 += 1\n",
    "            \n",
    "        # update theta2\n",
    "        else: \n",
    "        \n",
    "            # record number of updating\n",
    "            count2 += 1\n",
    "        \n",
    "            # proposal: independent N(0,sigma2^2)\n",
    "            theta2_prop = np.repeat(theta2,M)+stats.norm.rvs(0,sigma2,M)\n",
    "    \n",
    "            # proposal importance probabilities\n",
    "            w_prop = np.array([post(theta1,theta2) for theta2 in theta2_prop])\n",
    "    \n",
    "            # index of the chosen trial point\n",
    "            ix = np.random.choice(M, 1, p=w_prop/sum(w_prop))\n",
    "    \n",
    "            # draw M-1 samples \n",
    "            theta2_star = np.repeat(theta2_prop[ix],M-1)+stats.norm.rvs(0,sigma2,M-1)\n",
    "            # add theta2 as M th sample\n",
    "            theta2_star = np.append(theta2_star,theta2)\n",
    "    \n",
    "            # back importance probabilities\n",
    "            w_back = np.array([post(theta1,theta2) for theta2 in theta2_star])\n",
    "    \n",
    "            # accept or reject\n",
    "            u = stats.uniform.rvs(loc=0, scale=1, size=1)\n",
    "            if u < sum(w_prop)/sum(w_back):\n",
    "                theta2 = theta2_prop[ix]\n",
    "                accept2 += 1\n",
    "            \n",
    "        MTMGsamples[t] = theta1, theta2\n",
    "    \n",
    "    return MTMGsamples, count1, count2, accept1, accept2"
   ]
  },
  {
   "cell_type": "code",
   "execution_count": 47,
   "metadata": {
    "collapsed": false
   },
   "outputs": [],
   "source": [
    "MTMGsamples, count1, count2, accept1, accept2 = MTMG(n_iter=n_iter, M=M, sigma1=sigma1, sigma2=sigma2, post=post)"
   ]
  },
  {
   "cell_type": "code",
   "execution_count": 48,
   "metadata": {
    "collapsed": false
   },
   "outputs": [
    {
     "data": {
      "text/plain": [
       "<matplotlib.axes._subplots.AxesSubplot at 0x7f3a43b8cd68>"
      ]
     },
     "execution_count": 48,
     "metadata": {},
     "output_type": "execute_result"
    },
    {
     "name": "stderr",
     "output_type": "stream",
     "text": [
      "/opt/conda/lib/python3.4/site-packages/matplotlib/collections.py:590: FutureWarning: elementwise comparison failed; returning scalar instead, but in the future will perform elementwise comparison\n",
      "  if self._edgecolors == str('face'):\n"
     ]
    },
    {
     "data": {
      "image/png": "[encoded data removed]",
      "text/plain": [
       "<matplotlib.figure.Figure at 0x7f3a43b74390>"
      ]
     },
     "metadata": {},
     "output_type": "display_data"
    }
   ],
   "source": [
    "sns.kdeplot(MTMGsamples[:,0], MTMGsamples[:,1], camps='Reds', kind=\"kde\",shade=True,shade_lowest=False)"
   ]
  },
  {
   "cell_type": "markdown",
   "metadata": {},
   "source": [
    "## Variation 2: Langevin-within-MTM"
   ]
  }
 ],
 "metadata": {
  "kernelspec": {
   "display_name": "Python 3",
   "language": "python",
   "name": "python3"
  },
  "language_info": {
   "codemirror_mode": {
    "name": "ipython",
    "version": 3
   },
   "file_extension": ".py",
   "mimetype": "text/x-python",
   "name": "python",
   "nbconvert_exporter": "python",
   "pygments_lexer": "ipython3",
   "version": "3.5.1"
  }
 },
 "nbformat": 4,
 "nbformat_minor": 0
}
